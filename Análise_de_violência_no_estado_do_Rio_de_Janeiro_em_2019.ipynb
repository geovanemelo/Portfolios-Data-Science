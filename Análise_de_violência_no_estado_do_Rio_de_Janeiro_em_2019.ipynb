{
  "nbformat": 4,
  "nbformat_minor": 0,
  "metadata": {
    "colab": {
      "name": " Análise de violência no estado do Rio de Janeiro em 2019",
      "provenance": [],
      "collapsed_sections": [],
      "toc_visible": true,
      "authorship_tag": "ABX9TyP+HhsU2wJoD7ucXKI1fsxp",
      "include_colab_link": true
    },
    "kernelspec": {
      "name": "python3",
      "display_name": "Python 3"
    }
  },
  "cells": [
    {
      "cell_type": "markdown",
      "metadata": {
        "id": "view-in-github",
        "colab_type": "text"
      },
      "source": [
        "<a href=\"https://colab.research.google.com/github/geovanemelo/Portfolios-Data-Science/blob/main/An%C3%A1lise_de_viol%C3%AAncia_no_estado_do_Rio_de_Janeiro_em_2019.ipynb\" target=\"_parent\"><img src=\"https://colab.research.google.com/assets/colab-badge.svg\" alt=\"Open In Colab\"/></a>"
      ]
    },
    {
      "cell_type": "markdown",
      "metadata": {
        "id": "jqQ7wbnX8Ic7"
      },
      "source": [
        "**Data Science na Prática**\r\n",
        "\r\n",
        "*by [Geovane Melo](https://www.linkedin.com/in/geovane-melo-da-silva-105040147/)*\r\n",
        "\r\n",
        "---\r\n",
        "\r\n",
        "# Análise de violência no estado do Rio de Janeiro em 2019\r\n",
        "\r\n",
        "A violência é uma preocupação diária de praticamente todo brasileiro, porém no Rio De Janeiro, esse mal tem se tornado característica do cotidiano do carioca.\r\n",
        "\r\n",
        "Segundo o portal [Circuito D](https://www.circuitod.com.br/) com dados do [Anuário Brasileiro De Segurança Pública](https://forumseguranca.org.br/anuario-brasileiro-seguranca-publica/), o estado do Rio de Janeiro é o *sétimo no ranking de violência* dos estados brasileiros, sendo o primeiro isolado quando se tratamos apenas da região sul - sudeste.\r\n",
        "\r\n",
        "Mesmo com as informações e dados que comprovam que o estado do RJ é um estado perigoso, essa violência está centralizada na capital? Ou será que todo estado fluminense está assombrado por esse medo urbano?\r\n",
        "\r\n",
        "Nesse estudo, iremos analisar os números de ocorrência registradas de cada em crime, em cada munícipio. Ao final do projeto, poderemos identificar as cidades mais violentas além de outras informações relevantes.\r\n",
        "\r\n",
        "Usaremos como ferramenta a linguagem de programação Python e ambiente desenvolvimento Google Colab\r\n",
        "\r\n",
        "\r\n",
        "<center><img alt=\"Mapa do RJ\" width=\"40%\" src=\"http://voightseg.com.br/wp-content/uploads/2020/03/LsELDQQlZ9.jpg\"></center>\r\n",
        "\r\n",
        "\r\n"
      ]
    },
    {
      "cell_type": "markdown",
      "metadata": {
        "id": "mfROzG1y8o5v"
      },
      "source": [
        "## Obtenção dos Dados\r\n",
        "\r\n",
        "Os dados usados nesse projeto, foram retirados diretamente do portal de dados aberto do [ISP](http://www.ispdados.rj.gov.br/) (Instituto de Segurança Pública).\r\n",
        "\r\n",
        "As estatísticas desse *dataset* são construídas a partir de Registros de Ocorrência das delegacias da Polícia Civil do Estado do Rio de Janeiro, e informações complementares de órgãos da Polícia Militar do Estado do Rio De Janeiro\r\n",
        "\r\n",
        "Para acessar diretamente ao arquivo `csv` desse *dataset*, clique [aqui](http://www.ispdados.rj.gov.br/Arquivos/BaseMunicipioMensal.csv)\r\n"
      ]
    },
    {
      "cell_type": "code",
      "metadata": {
        "id": "-wqREYZn9a7t"
      },
      "source": [
        "#importando as bibiliotecas necessárias\r\n",
        "\r\n",
        "import pandas as pd\r\n",
        "import numpy as np\r\n",
        "import matplotlib.pyplot as plt\r\n",
        "import seaborn as sns\r\n",
        "\r\n",
        "%matplotlib inline"
      ],
      "execution_count": 1,
      "outputs": []
    },
    {
      "cell_type": "code",
      "metadata": {
        "id": "aEnzOPk28Vr4"
      },
      "source": [
        "#Importando o dataset(o arquivo usado está hospedado na máquina local e tem formato xltx)\r\n",
        "\r\n",
        "df = pd.read_excel('/content/BaseMunicipioMensal.xltx')"
      ],
      "execution_count": 2,
      "outputs": []
    },
    {
      "cell_type": "code",
      "metadata": {
        "colab": {
          "base_uri": "https://localhost:8080/",
          "height": 275
        },
        "id": "BQn9Gr6l8zBx",
        "outputId": "92912923-18d5-4fca-86b7-8b1b6a729c30"
      },
      "source": [
        "#primeira impressão do dataset\r\n",
        "df.head()"
      ],
      "execution_count": 3,
      "outputs": [
        {
          "output_type": "execute_result",
          "data": {
            "text/html": [
              "<div>\n",
              "<style scoped>\n",
              "    .dataframe tbody tr th:only-of-type {\n",
              "        vertical-align: middle;\n",
              "    }\n",
              "\n",
              "    .dataframe tbody tr th {\n",
              "        vertical-align: top;\n",
              "    }\n",
              "\n",
              "    .dataframe thead th {\n",
              "        text-align: right;\n",
              "    }\n",
              "</style>\n",
              "<table border=\"1\" class=\"dataframe\">\n",
              "  <thead>\n",
              "    <tr style=\"text-align: right;\">\n",
              "      <th></th>\n",
              "      <th>fmun_cod</th>\n",
              "      <th>fmun</th>\n",
              "      <th>ano</th>\n",
              "      <th>mes</th>\n",
              "      <th>mes_ano</th>\n",
              "      <th>regiao</th>\n",
              "      <th>hom_doloso</th>\n",
              "      <th>lesao_corp_morte</th>\n",
              "      <th>latrocinio</th>\n",
              "      <th>cvli</th>\n",
              "      <th>hom_por_interv_policial</th>\n",
              "      <th>letalidade_violenta</th>\n",
              "      <th>tentat_hom</th>\n",
              "      <th>lesao_corp_dolosa</th>\n",
              "      <th>estupro</th>\n",
              "      <th>hom_culposo</th>\n",
              "      <th>lesao_corp_culposa</th>\n",
              "      <th>roubo_transeunte</th>\n",
              "      <th>roubo_celular</th>\n",
              "      <th>roubo_em_coletivo</th>\n",
              "      <th>roubo_rua</th>\n",
              "      <th>roubo_veiculo</th>\n",
              "      <th>roubo_carga</th>\n",
              "      <th>roubo_comercio</th>\n",
              "      <th>roubo_residencia</th>\n",
              "      <th>roubo_banco</th>\n",
              "      <th>roubo_cx_eletronico</th>\n",
              "      <th>roubo_conducao_saque</th>\n",
              "      <th>roubo_apos_saque</th>\n",
              "      <th>roubo_bicicleta</th>\n",
              "      <th>outros_roubos</th>\n",
              "      <th>total_roubos</th>\n",
              "      <th>furto_veiculos</th>\n",
              "      <th>furto_transeunte</th>\n",
              "      <th>furto_coletivo</th>\n",
              "      <th>furto_celular</th>\n",
              "      <th>furto_bicicleta</th>\n",
              "      <th>outros_furtos</th>\n",
              "      <th>total_furtos</th>\n",
              "      <th>sequestro</th>\n",
              "      <th>extorsao</th>\n",
              "      <th>sequestro_relampago</th>\n",
              "      <th>estelionato</th>\n",
              "      <th>apreensao_drogas</th>\n",
              "      <th>posse_drogas</th>\n",
              "      <th>trafico_drogas</th>\n",
              "      <th>apreensao_drogas_sem_autor</th>\n",
              "      <th>recuperacao_veiculos</th>\n",
              "      <th>apf</th>\n",
              "      <th>aaapai</th>\n",
              "      <th>cmp</th>\n",
              "      <th>cmba</th>\n",
              "      <th>ameaca</th>\n",
              "      <th>pessoas_desaparecidas</th>\n",
              "      <th>encontro_cadaver</th>\n",
              "      <th>encontro_ossada</th>\n",
              "      <th>pol_militares_mortos_serv</th>\n",
              "      <th>pol_civis_mortos_serv</th>\n",
              "      <th>registro_ocorrencias</th>\n",
              "      <th>fase</th>\n",
              "    </tr>\n",
              "  </thead>\n",
              "  <tbody>\n",
              "    <tr>\n",
              "      <th>0</th>\n",
              "      <td>3300100</td>\n",
              "      <td>Angra dos Reis</td>\n",
              "      <td>2014</td>\n",
              "      <td>1</td>\n",
              "      <td>2014m01</td>\n",
              "      <td>Interior</td>\n",
              "      <td>11</td>\n",
              "      <td>0</td>\n",
              "      <td>0</td>\n",
              "      <td>11</td>\n",
              "      <td>1</td>\n",
              "      <td>12</td>\n",
              "      <td>2</td>\n",
              "      <td>96</td>\n",
              "      <td>7</td>\n",
              "      <td>4</td>\n",
              "      <td>37</td>\n",
              "      <td>5</td>\n",
              "      <td>1</td>\n",
              "      <td>1</td>\n",
              "      <td>7</td>\n",
              "      <td>8</td>\n",
              "      <td>0</td>\n",
              "      <td>4</td>\n",
              "      <td>0</td>\n",
              "      <td>0</td>\n",
              "      <td>0</td>\n",
              "      <td>0</td>\n",
              "      <td>0</td>\n",
              "      <td>0</td>\n",
              "      <td>5</td>\n",
              "      <td>23</td>\n",
              "      <td>18</td>\n",
              "      <td>3</td>\n",
              "      <td>3</td>\n",
              "      <td>11</td>\n",
              "      <td>0</td>\n",
              "      <td>98</td>\n",
              "      <td>134</td>\n",
              "      <td>0</td>\n",
              "      <td>0</td>\n",
              "      <td>0</td>\n",
              "      <td>21</td>\n",
              "      <td>35</td>\n",
              "      <td>18</td>\n",
              "      <td>12</td>\n",
              "      <td>5</td>\n",
              "      <td>9</td>\n",
              "      <td>28</td>\n",
              "      <td>6</td>\n",
              "      <td>8</td>\n",
              "      <td>0</td>\n",
              "      <td>98</td>\n",
              "      <td>13</td>\n",
              "      <td>3</td>\n",
              "      <td>0</td>\n",
              "      <td>0</td>\n",
              "      <td>0</td>\n",
              "      <td>561</td>\n",
              "      <td>3</td>\n",
              "    </tr>\n",
              "    <tr>\n",
              "      <th>1</th>\n",
              "      <td>3300159</td>\n",
              "      <td>Aperibé</td>\n",
              "      <td>2014</td>\n",
              "      <td>1</td>\n",
              "      <td>2014m01</td>\n",
              "      <td>Interior</td>\n",
              "      <td>0</td>\n",
              "      <td>0</td>\n",
              "      <td>0</td>\n",
              "      <td>0</td>\n",
              "      <td>0</td>\n",
              "      <td>0</td>\n",
              "      <td>0</td>\n",
              "      <td>0</td>\n",
              "      <td>0</td>\n",
              "      <td>0</td>\n",
              "      <td>0</td>\n",
              "      <td>0</td>\n",
              "      <td>0</td>\n",
              "      <td>0</td>\n",
              "      <td>0</td>\n",
              "      <td>0</td>\n",
              "      <td>0</td>\n",
              "      <td>0</td>\n",
              "      <td>0</td>\n",
              "      <td>0</td>\n",
              "      <td>0</td>\n",
              "      <td>0</td>\n",
              "      <td>0</td>\n",
              "      <td>0</td>\n",
              "      <td>0</td>\n",
              "      <td>0</td>\n",
              "      <td>0</td>\n",
              "      <td>0</td>\n",
              "      <td>0</td>\n",
              "      <td>0</td>\n",
              "      <td>0</td>\n",
              "      <td>0</td>\n",
              "      <td>0</td>\n",
              "      <td>0</td>\n",
              "      <td>0</td>\n",
              "      <td>0</td>\n",
              "      <td>0</td>\n",
              "      <td>0</td>\n",
              "      <td>0</td>\n",
              "      <td>0</td>\n",
              "      <td>0</td>\n",
              "      <td>0</td>\n",
              "      <td>0</td>\n",
              "      <td>0</td>\n",
              "      <td>0</td>\n",
              "      <td>0</td>\n",
              "      <td>0</td>\n",
              "      <td>0</td>\n",
              "      <td>0</td>\n",
              "      <td>0</td>\n",
              "      <td>0</td>\n",
              "      <td>0</td>\n",
              "      <td>0</td>\n",
              "      <td>3</td>\n",
              "    </tr>\n",
              "    <tr>\n",
              "      <th>2</th>\n",
              "      <td>3300209</td>\n",
              "      <td>Araruama</td>\n",
              "      <td>2014</td>\n",
              "      <td>1</td>\n",
              "      <td>2014m01</td>\n",
              "      <td>Interior</td>\n",
              "      <td>2</td>\n",
              "      <td>0</td>\n",
              "      <td>0</td>\n",
              "      <td>2</td>\n",
              "      <td>0</td>\n",
              "      <td>2</td>\n",
              "      <td>6</td>\n",
              "      <td>69</td>\n",
              "      <td>7</td>\n",
              "      <td>1</td>\n",
              "      <td>45</td>\n",
              "      <td>6</td>\n",
              "      <td>1</td>\n",
              "      <td>0</td>\n",
              "      <td>7</td>\n",
              "      <td>9</td>\n",
              "      <td>0</td>\n",
              "      <td>3</td>\n",
              "      <td>2</td>\n",
              "      <td>0</td>\n",
              "      <td>0</td>\n",
              "      <td>0</td>\n",
              "      <td>0</td>\n",
              "      <td>0</td>\n",
              "      <td>2</td>\n",
              "      <td>23</td>\n",
              "      <td>16</td>\n",
              "      <td>2</td>\n",
              "      <td>1</td>\n",
              "      <td>10</td>\n",
              "      <td>0</td>\n",
              "      <td>76</td>\n",
              "      <td>105</td>\n",
              "      <td>0</td>\n",
              "      <td>2</td>\n",
              "      <td>0</td>\n",
              "      <td>18</td>\n",
              "      <td>13</td>\n",
              "      <td>9</td>\n",
              "      <td>4</td>\n",
              "      <td>1</td>\n",
              "      <td>4</td>\n",
              "      <td>34</td>\n",
              "      <td>5</td>\n",
              "      <td>5</td>\n",
              "      <td>0</td>\n",
              "      <td>91</td>\n",
              "      <td>10</td>\n",
              "      <td>1</td>\n",
              "      <td>0</td>\n",
              "      <td>0</td>\n",
              "      <td>0</td>\n",
              "      <td>480</td>\n",
              "      <td>3</td>\n",
              "    </tr>\n",
              "    <tr>\n",
              "      <th>3</th>\n",
              "      <td>3300225</td>\n",
              "      <td>Areal</td>\n",
              "      <td>2014</td>\n",
              "      <td>1</td>\n",
              "      <td>2014m01</td>\n",
              "      <td>Interior</td>\n",
              "      <td>0</td>\n",
              "      <td>0</td>\n",
              "      <td>0</td>\n",
              "      <td>0</td>\n",
              "      <td>0</td>\n",
              "      <td>0</td>\n",
              "      <td>0</td>\n",
              "      <td>0</td>\n",
              "      <td>0</td>\n",
              "      <td>0</td>\n",
              "      <td>0</td>\n",
              "      <td>0</td>\n",
              "      <td>0</td>\n",
              "      <td>0</td>\n",
              "      <td>0</td>\n",
              "      <td>0</td>\n",
              "      <td>0</td>\n",
              "      <td>0</td>\n",
              "      <td>0</td>\n",
              "      <td>0</td>\n",
              "      <td>0</td>\n",
              "      <td>0</td>\n",
              "      <td>0</td>\n",
              "      <td>0</td>\n",
              "      <td>0</td>\n",
              "      <td>0</td>\n",
              "      <td>0</td>\n",
              "      <td>0</td>\n",
              "      <td>0</td>\n",
              "      <td>0</td>\n",
              "      <td>0</td>\n",
              "      <td>0</td>\n",
              "      <td>0</td>\n",
              "      <td>0</td>\n",
              "      <td>0</td>\n",
              "      <td>0</td>\n",
              "      <td>0</td>\n",
              "      <td>0</td>\n",
              "      <td>0</td>\n",
              "      <td>0</td>\n",
              "      <td>0</td>\n",
              "      <td>0</td>\n",
              "      <td>0</td>\n",
              "      <td>0</td>\n",
              "      <td>0</td>\n",
              "      <td>0</td>\n",
              "      <td>0</td>\n",
              "      <td>0</td>\n",
              "      <td>0</td>\n",
              "      <td>0</td>\n",
              "      <td>0</td>\n",
              "      <td>0</td>\n",
              "      <td>0</td>\n",
              "      <td>3</td>\n",
              "    </tr>\n",
              "    <tr>\n",
              "      <th>4</th>\n",
              "      <td>3300233</td>\n",
              "      <td>Armação dos Búzios</td>\n",
              "      <td>2014</td>\n",
              "      <td>1</td>\n",
              "      <td>2014m01</td>\n",
              "      <td>Interior</td>\n",
              "      <td>2</td>\n",
              "      <td>0</td>\n",
              "      <td>0</td>\n",
              "      <td>2</td>\n",
              "      <td>0</td>\n",
              "      <td>2</td>\n",
              "      <td>0</td>\n",
              "      <td>44</td>\n",
              "      <td>6</td>\n",
              "      <td>0</td>\n",
              "      <td>26</td>\n",
              "      <td>5</td>\n",
              "      <td>1</td>\n",
              "      <td>0</td>\n",
              "      <td>6</td>\n",
              "      <td>2</td>\n",
              "      <td>0</td>\n",
              "      <td>0</td>\n",
              "      <td>0</td>\n",
              "      <td>0</td>\n",
              "      <td>0</td>\n",
              "      <td>0</td>\n",
              "      <td>0</td>\n",
              "      <td>0</td>\n",
              "      <td>20</td>\n",
              "      <td>12</td>\n",
              "      <td>9</td>\n",
              "      <td>9</td>\n",
              "      <td>2</td>\n",
              "      <td>7</td>\n",
              "      <td>0</td>\n",
              "      <td>74</td>\n",
              "      <td>117</td>\n",
              "      <td>0</td>\n",
              "      <td>0</td>\n",
              "      <td>0</td>\n",
              "      <td>4</td>\n",
              "      <td>16</td>\n",
              "      <td>6</td>\n",
              "      <td>10</td>\n",
              "      <td>2</td>\n",
              "      <td>2</td>\n",
              "      <td>26</td>\n",
              "      <td>8</td>\n",
              "      <td>3</td>\n",
              "      <td>2</td>\n",
              "      <td>46</td>\n",
              "      <td>0</td>\n",
              "      <td>0</td>\n",
              "      <td>0</td>\n",
              "      <td>0</td>\n",
              "      <td>0</td>\n",
              "      <td>309</td>\n",
              "      <td>3</td>\n",
              "    </tr>\n",
              "  </tbody>\n",
              "</table>\n",
              "</div>"
            ],
            "text/plain": [
              "   fmun_cod                fmun  ...  registro_ocorrencias  fase\n",
              "0   3300100      Angra dos Reis  ...                   561     3\n",
              "1   3300159             Aperibé  ...                     0     3\n",
              "2   3300209            Araruama  ...                   480     3\n",
              "3   3300225               Areal  ...                     0     3\n",
              "4   3300233  Armação dos Búzios  ...                   309     3\n",
              "\n",
              "[5 rows x 60 columns]"
            ]
          },
          "metadata": {
            "tags": []
          },
          "execution_count": 3
        }
      ]
    },
    {
      "cell_type": "markdown",
      "metadata": {
        "id": "uzVYpFRI3AEW"
      },
      "source": [
        "###Dicionário de variáveis\r\n",
        "\r\n",
        "Informações sobre todas colunas presente no *dataset* estudado.\r\n",
        "\r\n",
        "![image.png](data:image/png;base64,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)"
      ]
    },
    {
      "cell_type": "markdown",
      "metadata": {
        "id": "bR9-d1j5-63p"
      },
      "source": [
        "##Limpeza dos dados\r\n",
        "\r\n",
        "Nessa etapa do projeto, será feito uma limpeza nos dados quais não serão utilizados, com intuito de deixarmos somente informações uteis e assim deixar o processo mais ágil. \r\n",
        "\r\n",
        "<center><img alt=\"Mapa do RJ\" width=\"20%\" src=\"https://image.flaticon.com/icons/png/512/1998/1998534.png\"></center>"
      ]
    },
    {
      "cell_type": "markdown",
      "metadata": {
        "id": "v-TtwReo_CpN"
      },
      "source": [
        "Os procedimentos de limpeza serão:\r\n",
        "\r\n",
        "*   Remoção da coluna `fmun_cod`.\r\n",
        "*   A partir da coluna `ano`, serão removidas todas as linhas as **quais não possuem o valor 2019** (ano escolhido pra estudo)\r\n",
        "*   Remoção da coluna `mes_ano`\r\n",
        "*   Remoção da coluna `fase`\r\n",
        "*   Remoção da coluna `ano`(Já que todas linhas serão do ano de 2019) \r\n",
        "*   Tratamento de dados ausentes\r\n",
        "*   Renomear a coluna `fmun` para `municipio`\r\n",
        "\r\n",
        "\r\n",
        "\r\n",
        "\r\n",
        "\r\n",
        "\r\n",
        "\r\n",
        "\r\n",
        "Todos esses processos serão feitos em um novo *dataset* chamado `df_clean` a fim de preservação do *dataset* original.\r\n",
        "\r\n",
        "\r\n"
      ]
    },
    {
      "cell_type": "code",
      "metadata": {
        "id": "RFWn5y1cwETl"
      },
      "source": [
        "#Criação de um dataset cópia\r\n",
        "df_clean = df.copy()"
      ],
      "execution_count": 4,
      "outputs": []
    },
    {
      "cell_type": "markdown",
      "metadata": {
        "id": "2O_ulmMT1BTd"
      },
      "source": [
        "###Remoção de linhas e colunas não úteis"
      ]
    },
    {
      "cell_type": "code",
      "metadata": {
        "colab": {
          "base_uri": "https://localhost:8080/"
        },
        "id": "MRUafbkk0MWM",
        "outputId": "c0572a42-9887-49a4-a409-a3543789bf49"
      },
      "source": [
        "#Tamanho do dataset antes das exclusões\r\n",
        "df_clean.shape"
      ],
      "execution_count": 5,
      "outputs": [
        {
          "output_type": "execute_result",
          "data": {
            "text/plain": [
              "(7820, 60)"
            ]
          },
          "metadata": {
            "tags": []
          },
          "execution_count": 5
        }
      ]
    },
    {
      "cell_type": "code",
      "metadata": {
        "id": "fP3ZS6txxMoD"
      },
      "source": [
        "#Remoção da coluna fmun_cod\r\n",
        "df_clean.drop('fmun_cod', axis=1,inplace=True)\r\n",
        "\r\n",
        "#Remoção da coluna mes_ano\r\n",
        "df_clean.drop('mes_ano', axis=1,inplace=True)\r\n",
        "\r\n",
        "#Remoção da coluna fase\r\n",
        "df_clean.drop('fase', axis=1,inplace=True)\r\n"
      ],
      "execution_count": 6,
      "outputs": []
    },
    {
      "cell_type": "code",
      "metadata": {
        "id": "EQm8-PCHypEn"
      },
      "source": [
        "#Remoção das linhas nas quais o ano não é 2019\r\n",
        "df_clean.drop(df_clean[df_clean.ano != 2019].index,axis=0,inplace=True)"
      ],
      "execution_count": 7,
      "outputs": []
    },
    {
      "cell_type": "code",
      "metadata": {
        "id": "2PWIdQiAzeMp"
      },
      "source": [
        "#Remoção da coluna ano\r\n",
        "df_clean.drop('ano',axis=1,inplace=True)"
      ],
      "execution_count": 8,
      "outputs": []
    },
    {
      "cell_type": "code",
      "metadata": {
        "colab": {
          "base_uri": "https://localhost:8080/"
        },
        "id": "kTwr78b90R3E",
        "outputId": "6d38950a-dc4e-4ed6-a577-3476a8b0f0fb"
      },
      "source": [
        "#Tamanho do dataset depois das exclusões\r\n",
        "df_clean.shape"
      ],
      "execution_count": 9,
      "outputs": [
        {
          "output_type": "execute_result",
          "data": {
            "text/plain": [
              "(1104, 56)"
            ]
          },
          "metadata": {
            "tags": []
          },
          "execution_count": 9
        }
      ]
    },
    {
      "cell_type": "code",
      "metadata": {
        "id": "dQ-r4y86tXLm"
      },
      "source": [
        "#Renomeando a coluna fmun para municipio\r\n",
        "df_clean.rename(columns={'fmun':'municipio'},inplace=True)"
      ],
      "execution_count": 10,
      "outputs": []
    },
    {
      "cell_type": "code",
      "metadata": {
        "id": "Nycc_8Xuqxul"
      },
      "source": [
        "#Resetando o index\r\n",
        "df_clean.reset_index(inplace=True)\r\n",
        "df_clean.drop('index',axis=1,inplace=True)"
      ],
      "execution_count": 11,
      "outputs": []
    },
    {
      "cell_type": "code",
      "metadata": {
        "colab": {
          "base_uri": "https://localhost:8080/",
          "height": 258
        },
        "id": "6HN11mhtoixJ",
        "outputId": "059b88f8-3337-4c61-d3e4-dfdb66e2abb0"
      },
      "source": [
        "#Visualização do dataset depois das exclusões\r\n",
        "df_clean.head()"
      ],
      "execution_count": 12,
      "outputs": [
        {
          "output_type": "execute_result",
          "data": {
            "text/html": [
              "<div>\n",
              "<style scoped>\n",
              "    .dataframe tbody tr th:only-of-type {\n",
              "        vertical-align: middle;\n",
              "    }\n",
              "\n",
              "    .dataframe tbody tr th {\n",
              "        vertical-align: top;\n",
              "    }\n",
              "\n",
              "    .dataframe thead th {\n",
              "        text-align: right;\n",
              "    }\n",
              "</style>\n",
              "<table border=\"1\" class=\"dataframe\">\n",
              "  <thead>\n",
              "    <tr style=\"text-align: right;\">\n",
              "      <th></th>\n",
              "      <th>municipio</th>\n",
              "      <th>mes</th>\n",
              "      <th>regiao</th>\n",
              "      <th>hom_doloso</th>\n",
              "      <th>lesao_corp_morte</th>\n",
              "      <th>latrocinio</th>\n",
              "      <th>cvli</th>\n",
              "      <th>hom_por_interv_policial</th>\n",
              "      <th>letalidade_violenta</th>\n",
              "      <th>tentat_hom</th>\n",
              "      <th>lesao_corp_dolosa</th>\n",
              "      <th>estupro</th>\n",
              "      <th>hom_culposo</th>\n",
              "      <th>lesao_corp_culposa</th>\n",
              "      <th>roubo_transeunte</th>\n",
              "      <th>roubo_celular</th>\n",
              "      <th>roubo_em_coletivo</th>\n",
              "      <th>roubo_rua</th>\n",
              "      <th>roubo_veiculo</th>\n",
              "      <th>roubo_carga</th>\n",
              "      <th>roubo_comercio</th>\n",
              "      <th>roubo_residencia</th>\n",
              "      <th>roubo_banco</th>\n",
              "      <th>roubo_cx_eletronico</th>\n",
              "      <th>roubo_conducao_saque</th>\n",
              "      <th>roubo_apos_saque</th>\n",
              "      <th>roubo_bicicleta</th>\n",
              "      <th>outros_roubos</th>\n",
              "      <th>total_roubos</th>\n",
              "      <th>furto_veiculos</th>\n",
              "      <th>furto_transeunte</th>\n",
              "      <th>furto_coletivo</th>\n",
              "      <th>furto_celular</th>\n",
              "      <th>furto_bicicleta</th>\n",
              "      <th>outros_furtos</th>\n",
              "      <th>total_furtos</th>\n",
              "      <th>sequestro</th>\n",
              "      <th>extorsao</th>\n",
              "      <th>sequestro_relampago</th>\n",
              "      <th>estelionato</th>\n",
              "      <th>apreensao_drogas</th>\n",
              "      <th>posse_drogas</th>\n",
              "      <th>trafico_drogas</th>\n",
              "      <th>apreensao_drogas_sem_autor</th>\n",
              "      <th>recuperacao_veiculos</th>\n",
              "      <th>apf</th>\n",
              "      <th>aaapai</th>\n",
              "      <th>cmp</th>\n",
              "      <th>cmba</th>\n",
              "      <th>ameaca</th>\n",
              "      <th>pessoas_desaparecidas</th>\n",
              "      <th>encontro_cadaver</th>\n",
              "      <th>encontro_ossada</th>\n",
              "      <th>pol_militares_mortos_serv</th>\n",
              "      <th>pol_civis_mortos_serv</th>\n",
              "      <th>registro_ocorrencias</th>\n",
              "    </tr>\n",
              "  </thead>\n",
              "  <tbody>\n",
              "    <tr>\n",
              "      <th>0</th>\n",
              "      <td>Angra dos Reis</td>\n",
              "      <td>1</td>\n",
              "      <td>Interior</td>\n",
              "      <td>8</td>\n",
              "      <td>0</td>\n",
              "      <td>0</td>\n",
              "      <td>8</td>\n",
              "      <td>4</td>\n",
              "      <td>12</td>\n",
              "      <td>14</td>\n",
              "      <td>74</td>\n",
              "      <td>6</td>\n",
              "      <td>9</td>\n",
              "      <td>29</td>\n",
              "      <td>18</td>\n",
              "      <td>9</td>\n",
              "      <td>1</td>\n",
              "      <td>28</td>\n",
              "      <td>8</td>\n",
              "      <td>3</td>\n",
              "      <td>3</td>\n",
              "      <td>0</td>\n",
              "      <td>0</td>\n",
              "      <td>0</td>\n",
              "      <td>0</td>\n",
              "      <td>0</td>\n",
              "      <td>0</td>\n",
              "      <td>6</td>\n",
              "      <td>48</td>\n",
              "      <td>7</td>\n",
              "      <td>8</td>\n",
              "      <td>2</td>\n",
              "      <td>7</td>\n",
              "      <td>1</td>\n",
              "      <td>54</td>\n",
              "      <td>79</td>\n",
              "      <td>0</td>\n",
              "      <td>1</td>\n",
              "      <td>0</td>\n",
              "      <td>21</td>\n",
              "      <td>21</td>\n",
              "      <td>6</td>\n",
              "      <td>14</td>\n",
              "      <td>1</td>\n",
              "      <td>11</td>\n",
              "      <td>42</td>\n",
              "      <td>13</td>\n",
              "      <td>5</td>\n",
              "      <td>1</td>\n",
              "      <td>52</td>\n",
              "      <td>3</td>\n",
              "      <td>0</td>\n",
              "      <td>0</td>\n",
              "      <td>0</td>\n",
              "      <td>0</td>\n",
              "      <td>444</td>\n",
              "    </tr>\n",
              "    <tr>\n",
              "      <th>1</th>\n",
              "      <td>Aperibé</td>\n",
              "      <td>1</td>\n",
              "      <td>Interior</td>\n",
              "      <td>0</td>\n",
              "      <td>0</td>\n",
              "      <td>0</td>\n",
              "      <td>0</td>\n",
              "      <td>0</td>\n",
              "      <td>0</td>\n",
              "      <td>0</td>\n",
              "      <td>5</td>\n",
              "      <td>0</td>\n",
              "      <td>0</td>\n",
              "      <td>0</td>\n",
              "      <td>0</td>\n",
              "      <td>0</td>\n",
              "      <td>0</td>\n",
              "      <td>0</td>\n",
              "      <td>0</td>\n",
              "      <td>0</td>\n",
              "      <td>0</td>\n",
              "      <td>0</td>\n",
              "      <td>0</td>\n",
              "      <td>0</td>\n",
              "      <td>0</td>\n",
              "      <td>0</td>\n",
              "      <td>0</td>\n",
              "      <td>0</td>\n",
              "      <td>0</td>\n",
              "      <td>1</td>\n",
              "      <td>0</td>\n",
              "      <td>0</td>\n",
              "      <td>0</td>\n",
              "      <td>0</td>\n",
              "      <td>3</td>\n",
              "      <td>4</td>\n",
              "      <td>0</td>\n",
              "      <td>0</td>\n",
              "      <td>0</td>\n",
              "      <td>2</td>\n",
              "      <td>0</td>\n",
              "      <td>0</td>\n",
              "      <td>0</td>\n",
              "      <td>0</td>\n",
              "      <td>0</td>\n",
              "      <td>3</td>\n",
              "      <td>0</td>\n",
              "      <td>0</td>\n",
              "      <td>0</td>\n",
              "      <td>6</td>\n",
              "      <td>0</td>\n",
              "      <td>0</td>\n",
              "      <td>0</td>\n",
              "      <td>0</td>\n",
              "      <td>0</td>\n",
              "      <td>27</td>\n",
              "    </tr>\n",
              "    <tr>\n",
              "      <th>2</th>\n",
              "      <td>Araruama</td>\n",
              "      <td>1</td>\n",
              "      <td>Interior</td>\n",
              "      <td>3</td>\n",
              "      <td>0</td>\n",
              "      <td>0</td>\n",
              "      <td>3</td>\n",
              "      <td>2</td>\n",
              "      <td>5</td>\n",
              "      <td>2</td>\n",
              "      <td>54</td>\n",
              "      <td>5</td>\n",
              "      <td>2</td>\n",
              "      <td>34</td>\n",
              "      <td>21</td>\n",
              "      <td>16</td>\n",
              "      <td>1</td>\n",
              "      <td>38</td>\n",
              "      <td>1</td>\n",
              "      <td>0</td>\n",
              "      <td>4</td>\n",
              "      <td>2</td>\n",
              "      <td>0</td>\n",
              "      <td>0</td>\n",
              "      <td>0</td>\n",
              "      <td>0</td>\n",
              "      <td>0</td>\n",
              "      <td>10</td>\n",
              "      <td>55</td>\n",
              "      <td>11</td>\n",
              "      <td>5</td>\n",
              "      <td>0</td>\n",
              "      <td>14</td>\n",
              "      <td>2</td>\n",
              "      <td>82</td>\n",
              "      <td>114</td>\n",
              "      <td>0</td>\n",
              "      <td>0</td>\n",
              "      <td>0</td>\n",
              "      <td>15</td>\n",
              "      <td>51</td>\n",
              "      <td>20</td>\n",
              "      <td>28</td>\n",
              "      <td>4</td>\n",
              "      <td>9</td>\n",
              "      <td>34</td>\n",
              "      <td>16</td>\n",
              "      <td>10</td>\n",
              "      <td>0</td>\n",
              "      <td>72</td>\n",
              "      <td>5</td>\n",
              "      <td>0</td>\n",
              "      <td>0</td>\n",
              "      <td>0</td>\n",
              "      <td>0</td>\n",
              "      <td>594</td>\n",
              "    </tr>\n",
              "    <tr>\n",
              "      <th>3</th>\n",
              "      <td>Areal</td>\n",
              "      <td>1</td>\n",
              "      <td>Interior</td>\n",
              "      <td>1</td>\n",
              "      <td>0</td>\n",
              "      <td>0</td>\n",
              "      <td>1</td>\n",
              "      <td>0</td>\n",
              "      <td>1</td>\n",
              "      <td>0</td>\n",
              "      <td>2</td>\n",
              "      <td>0</td>\n",
              "      <td>0</td>\n",
              "      <td>1</td>\n",
              "      <td>0</td>\n",
              "      <td>0</td>\n",
              "      <td>0</td>\n",
              "      <td>0</td>\n",
              "      <td>0</td>\n",
              "      <td>0</td>\n",
              "      <td>0</td>\n",
              "      <td>0</td>\n",
              "      <td>0</td>\n",
              "      <td>0</td>\n",
              "      <td>0</td>\n",
              "      <td>0</td>\n",
              "      <td>0</td>\n",
              "      <td>0</td>\n",
              "      <td>0</td>\n",
              "      <td>1</td>\n",
              "      <td>0</td>\n",
              "      <td>0</td>\n",
              "      <td>0</td>\n",
              "      <td>1</td>\n",
              "      <td>0</td>\n",
              "      <td>2</td>\n",
              "      <td>0</td>\n",
              "      <td>0</td>\n",
              "      <td>0</td>\n",
              "      <td>0</td>\n",
              "      <td>4</td>\n",
              "      <td>1</td>\n",
              "      <td>3</td>\n",
              "      <td>0</td>\n",
              "      <td>0</td>\n",
              "      <td>2</td>\n",
              "      <td>0</td>\n",
              "      <td>0</td>\n",
              "      <td>0</td>\n",
              "      <td>1</td>\n",
              "      <td>0</td>\n",
              "      <td>0</td>\n",
              "      <td>0</td>\n",
              "      <td>0</td>\n",
              "      <td>0</td>\n",
              "      <td>16</td>\n",
              "    </tr>\n",
              "    <tr>\n",
              "      <th>4</th>\n",
              "      <td>Armação dos Búzios</td>\n",
              "      <td>1</td>\n",
              "      <td>Interior</td>\n",
              "      <td>0</td>\n",
              "      <td>0</td>\n",
              "      <td>0</td>\n",
              "      <td>0</td>\n",
              "      <td>0</td>\n",
              "      <td>0</td>\n",
              "      <td>5</td>\n",
              "      <td>36</td>\n",
              "      <td>2</td>\n",
              "      <td>0</td>\n",
              "      <td>6</td>\n",
              "      <td>10</td>\n",
              "      <td>6</td>\n",
              "      <td>0</td>\n",
              "      <td>16</td>\n",
              "      <td>0</td>\n",
              "      <td>0</td>\n",
              "      <td>0</td>\n",
              "      <td>1</td>\n",
              "      <td>0</td>\n",
              "      <td>0</td>\n",
              "      <td>0</td>\n",
              "      <td>0</td>\n",
              "      <td>0</td>\n",
              "      <td>0</td>\n",
              "      <td>17</td>\n",
              "      <td>5</td>\n",
              "      <td>10</td>\n",
              "      <td>2</td>\n",
              "      <td>11</td>\n",
              "      <td>3</td>\n",
              "      <td>58</td>\n",
              "      <td>89</td>\n",
              "      <td>0</td>\n",
              "      <td>0</td>\n",
              "      <td>0</td>\n",
              "      <td>8</td>\n",
              "      <td>9</td>\n",
              "      <td>2</td>\n",
              "      <td>7</td>\n",
              "      <td>0</td>\n",
              "      <td>0</td>\n",
              "      <td>11</td>\n",
              "      <td>2</td>\n",
              "      <td>10</td>\n",
              "      <td>0</td>\n",
              "      <td>17</td>\n",
              "      <td>3</td>\n",
              "      <td>0</td>\n",
              "      <td>0</td>\n",
              "      <td>0</td>\n",
              "      <td>0</td>\n",
              "      <td>253</td>\n",
              "    </tr>\n",
              "  </tbody>\n",
              "</table>\n",
              "</div>"
            ],
            "text/plain": [
              "            municipio  mes  ... pol_civis_mortos_serv  registro_ocorrencias\n",
              "0      Angra dos Reis    1  ...                     0                   444\n",
              "1             Aperibé    1  ...                     0                    27\n",
              "2            Araruama    1  ...                     0                   594\n",
              "3               Areal    1  ...                     0                    16\n",
              "4  Armação dos Búzios    1  ...                     0                   253\n",
              "\n",
              "[5 rows x 56 columns]"
            ]
          },
          "metadata": {
            "tags": []
          },
          "execution_count": 12
        }
      ]
    },
    {
      "cell_type": "markdown",
      "metadata": {
        "id": "VvXp7Y5bepoe"
      },
      "source": [
        "###Tratamento de dados ausentes"
      ]
    },
    {
      "cell_type": "markdown",
      "metadata": {
        "id": "bq4mpbgUexVJ"
      },
      "source": [
        "Sempre antes de entrar na análise exploratória, é interessante averiguar se em nosso *dataset* existem dados ausentes.\r\n",
        "\r\n",
        "Estes dados podem afetar diretamente o processo de análise e um eventual algoritmo de aprendizado de máquina que pode ali ser aplicado.\r\n",
        "\r\n",
        "Caso haja algum dado faltante, um dos processos abaixo deve ser aplicado:\r\n",
        "\r\n",
        "*   Remoção da linha ou coluna\r\n",
        "\r\n",
        "Esta opção somente é indicada quando os valores faltantes são poucos. A exclusão de muitas linhas ou colunas podem causar uma perca significativa de outros valores úteis dentro do *dataset*.\r\n",
        "\r\n",
        "*  Preencher os valores ausentes\r\n",
        "\r\n",
        "Opção mais recomendada, porém, é de vital importância saber com o que preencher. É necessária uma atenção especial e considerar qual valor seria mais adequado na determinada situação. Valores como a média, mediana e valor mais frequente são muito usados nesse processo.\r\n"
      ]
    },
    {
      "cell_type": "markdown",
      "metadata": {
        "id": "9Z2LKGs1lny7"
      },
      "source": [
        "Para averiguar se em nosso *dataset* existem valores faltantes usaremos a função `isnull().sum()` , na qual retornará a soma de valores ausentes em cada coluna."
      ]
    },
    {
      "cell_type": "code",
      "metadata": {
        "colab": {
          "base_uri": "https://localhost:8080/"
        },
        "id": "NSgIgoLRmBjU",
        "outputId": "63715350-9c4c-40d0-9860-131dcd8dc301"
      },
      "source": [
        "#Verificando se há valores ausentes\r\n",
        "\r\n",
        "df_clean.isnull().sum()"
      ],
      "execution_count": 13,
      "outputs": [
        {
          "output_type": "execute_result",
          "data": {
            "text/plain": [
              "municipio                     0\n",
              "mes                           0\n",
              "regiao                        0\n",
              "hom_doloso                    0\n",
              "lesao_corp_morte              0\n",
              "latrocinio                    0\n",
              "cvli                          0\n",
              "hom_por_interv_policial       0\n",
              "letalidade_violenta           0\n",
              "tentat_hom                    0\n",
              "lesao_corp_dolosa             0\n",
              "estupro                       0\n",
              "hom_culposo                   0\n",
              "lesao_corp_culposa            0\n",
              "roubo_transeunte              0\n",
              "roubo_celular                 0\n",
              "roubo_em_coletivo             0\n",
              "roubo_rua                     0\n",
              "roubo_veiculo                 0\n",
              "roubo_carga                   0\n",
              "roubo_comercio                0\n",
              "roubo_residencia              0\n",
              "roubo_banco                   0\n",
              "roubo_cx_eletronico           0\n",
              "roubo_conducao_saque          0\n",
              "roubo_apos_saque              0\n",
              "roubo_bicicleta               0\n",
              "outros_roubos                 0\n",
              "total_roubos                  0\n",
              "furto_veiculos                0\n",
              "furto_transeunte              0\n",
              "furto_coletivo                0\n",
              "furto_celular                 0\n",
              "furto_bicicleta               0\n",
              "outros_furtos                 0\n",
              "total_furtos                  0\n",
              "sequestro                     0\n",
              "extorsao                      0\n",
              "sequestro_relampago           0\n",
              "estelionato                   0\n",
              "apreensao_drogas              0\n",
              "posse_drogas                  0\n",
              "trafico_drogas                0\n",
              "apreensao_drogas_sem_autor    0\n",
              "recuperacao_veiculos          0\n",
              "apf                           0\n",
              "aaapai                        0\n",
              "cmp                           0\n",
              "cmba                          0\n",
              "ameaca                        0\n",
              "pessoas_desaparecidas         0\n",
              "encontro_cadaver              0\n",
              "encontro_ossada               0\n",
              "pol_militares_mortos_serv     0\n",
              "pol_civis_mortos_serv         0\n",
              "registro_ocorrencias          0\n",
              "dtype: int64"
            ]
          },
          "metadata": {
            "tags": []
          },
          "execution_count": 13
        }
      ]
    },
    {
      "cell_type": "markdown",
      "metadata": {
        "id": "wf9bfR54mN2z"
      },
      "source": [
        "Como podemos observar acima, em nosso *dataset*, não existem nenhum dado ausente.\r\n",
        "\r\n",
        "Entretanto, é interessante observar uma enorme quantidade campos preenchidos com o valor \"0\". Esse valor significa que não houve naquele período e naquele local uma ocorrência registrada e sendo assim **não se trata** de um dado ausente e sim o que de fato aconteceu (ou não aconteceu)."
      ]
    },
    {
      "cell_type": "markdown",
      "metadata": {
        "id": "TJqOAhcwyAT7"
      },
      "source": [
        "##Análise do Dados\r\n",
        "\r\n",
        "Após alguns tratamentos feito na base, começaremos as análises no *dataset*.\r\n",
        "\r\n",
        "<center><img alt=\"Analise\" width=\"40%\" src=\"https://image.freepik.com/vetores-gratis/analise-de-desempenho-de-negocios-com-graficos_53876-59914.jpg\"></center>"
      ]
    },
    {
      "cell_type": "markdown",
      "metadata": {
        "id": "EiJHc8TQ0rTf"
      },
      "source": [
        "###Divisão dos municípios\r\n",
        "\r\n",
        "A terceira coluna do nosso *dataset* chamada `regiao`, descreve em qual região o município da linha está situado. Extrairemos abaixo, algumas informações dessa coluna."
      ]
    },
    {
      "cell_type": "markdown",
      "metadata": {
        "id": "VWFIp4mx6SQk"
      },
      "source": [
        "####Quantidade de regiões\r\n",
        "\r\n",
        "Em quantas regiões o estado do RJ foi dividido nesse *dataset*?"
      ]
    },
    {
      "cell_type": "code",
      "metadata": {
        "id": "9KpH4QBj2bvA",
        "colab": {
          "base_uri": "https://localhost:8080/"
        },
        "outputId": "bfd317c5-6a27-44dc-8596-08ef54422983"
      },
      "source": [
        "#Quantidade de regiões\r\n",
        "print(\"Os municípios estão dividos em {} regiões\".format(len(df_clean.regiao.unique())))\r\n",
        "print(\"Sendo eles : {}\".format(df_clean.regiao.unique()))\r\n"
      ],
      "execution_count": 14,
      "outputs": [
        {
          "output_type": "stream",
          "text": [
            "Os municípios estão dividos em 4 regiões\n",
            "Sendo eles : ['Interior' 'Baixada Fluminense' 'Grande Niterói' 'Capital']\n"
          ],
          "name": "stdout"
        }
      ]
    },
    {
      "cell_type": "markdown",
      "metadata": {
        "id": "Kr_KneTA6oDK"
      },
      "source": [
        "####Quantidade de municípios por região\r\n",
        "Agora que sabemos a quantidade de regiões, quantos municípios temos em cada uma delas?"
      ]
    },
    {
      "cell_type": "code",
      "metadata": {
        "colab": {
          "base_uri": "https://localhost:8080/"
        },
        "id": "CXuqUmCM4aYJ",
        "outputId": "2d93080b-dbc8-4420-9267-4d2d3b17b88b"
      },
      "source": [
        "#Quantos municipios temos por região?\r\n",
        "df_clean.regiao.value_counts() / 12"
      ],
      "execution_count": 15,
      "outputs": [
        {
          "output_type": "execute_result",
          "data": {
            "text/plain": [
              "Interior              75.0\n",
              "Baixada Fluminense    13.0\n",
              "Grande Niterói         3.0\n",
              "Capital                1.0\n",
              "Name: regiao, dtype: float64"
            ]
          },
          "metadata": {
            "tags": []
          },
          "execution_count": 15
        }
      ]
    },
    {
      "cell_type": "code",
      "metadata": {
        "colab": {
          "base_uri": "https://localhost:8080/"
        },
        "id": "RDYaXKtk7HOC",
        "outputId": "71d6472d-07d8-47ae-877f-40d7f44dcf0b"
      },
      "source": [
        "#Porcentagem das divisões\r\n",
        "round(df_clean.regiao.value_counts(1),2)\r\n",
        "per_regiao = round(df_clean.regiao.value_counts(1),2)\r\n",
        "per_regiao = per_regiao.to_frame()\r\n",
        "print(per_regiao)"
      ],
      "execution_count": 16,
      "outputs": [
        {
          "output_type": "stream",
          "text": [
            "                    regiao\n",
            "Interior              0.82\n",
            "Baixada Fluminense    0.14\n",
            "Grande Niterói        0.03\n",
            "Capital               0.01\n"
          ],
          "name": "stdout"
        }
      ]
    },
    {
      "cell_type": "code",
      "metadata": {
        "colab": {
          "base_uri": "https://localhost:8080/",
          "height": 265
        },
        "id": "GY8LE3xI7sKX",
        "outputId": "6c7b1749-00f2-4a3a-e5b0-e915f9db0ced"
      },
      "source": [
        "#Gráfico ilustrando a porcentagem\r\n",
        "plt.barh(per_regiao.index,per_regiao['regiao'])\r\n",
        "plt.show()"
      ],
      "execution_count": 17,
      "outputs": [
        {
          "output_type": "display_data",
          "data": {
            "image/png": "[encoded data removed]",
            "text/plain": [
              "<Figure size 432x288 with 1 Axes>"
            ]
          },
          "metadata": {
            "tags": [],
            "needs_background": "light"
          }
        }
      ]
    },
    {
      "cell_type": "markdown",
      "metadata": {
        "id": "2OulYd4PDSak"
      },
      "source": [
        "###Região com maior número de casos\r\n",
        "Agora que sabemos como funciona a divisão dos estados, identificaremos qual delas recebeu o maior número de registros de ocorrência no ano de 2019.\r\n",
        "\r\n",
        "Para isso, usaremos a coluna nomeada `registro_ocorrencias`. Nela estão os números de ocorrências registradas em determinado mês (coluna: `mes`).\r\n"
      ]
    },
    {
      "cell_type": "code",
      "metadata": {
        "id": "AI07uL2CEekg"
      },
      "source": [
        "registros_regiao=df_clean[['regiao','registro_ocorrencias']].groupby('regiao')"
      ],
      "execution_count": 18,
      "outputs": []
    },
    {
      "cell_type": "code",
      "metadata": {
        "colab": {
          "base_uri": "https://localhost:8080/",
          "height": 204
        },
        "id": "d6VZLO3pGz7x",
        "outputId": "8d9186dc-1158-4dcb-a799-dd27ddb5c967"
      },
      "source": [
        "registros_regiao.sum().sort_values(by='registro_ocorrencias',ascending=False)"
      ],
      "execution_count": 19,
      "outputs": [
        {
          "output_type": "execute_result",
          "data": {
            "text/html": [
              "<div>\n",
              "<style scoped>\n",
              "    .dataframe tbody tr th:only-of-type {\n",
              "        vertical-align: middle;\n",
              "    }\n",
              "\n",
              "    .dataframe tbody tr th {\n",
              "        vertical-align: top;\n",
              "    }\n",
              "\n",
              "    .dataframe thead th {\n",
              "        text-align: right;\n",
              "    }\n",
              "</style>\n",
              "<table border=\"1\" class=\"dataframe\">\n",
              "  <thead>\n",
              "    <tr style=\"text-align: right;\">\n",
              "      <th></th>\n",
              "      <th>registro_ocorrencias</th>\n",
              "    </tr>\n",
              "    <tr>\n",
              "      <th>regiao</th>\n",
              "      <th></th>\n",
              "    </tr>\n",
              "  </thead>\n",
              "  <tbody>\n",
              "    <tr>\n",
              "      <th>Capital</th>\n",
              "      <td>379989</td>\n",
              "    </tr>\n",
              "    <tr>\n",
              "      <th>Interior</th>\n",
              "      <td>169229</td>\n",
              "    </tr>\n",
              "    <tr>\n",
              "      <th>Baixada Fluminense</th>\n",
              "      <td>155079</td>\n",
              "    </tr>\n",
              "    <tr>\n",
              "      <th>Grande Niterói</th>\n",
              "      <td>77225</td>\n",
              "    </tr>\n",
              "  </tbody>\n",
              "</table>\n",
              "</div>"
            ],
            "text/plain": [
              "                    registro_ocorrencias\n",
              "regiao                                  \n",
              "Capital                           379989\n",
              "Interior                          169229\n",
              "Baixada Fluminense                155079\n",
              "Grande Niterói                     77225"
            ]
          },
          "metadata": {
            "tags": []
          },
          "execution_count": 19
        }
      ]
    },
    {
      "cell_type": "code",
      "metadata": {
        "id": "Y11zG-4cfrSv"
      },
      "source": [
        "registros_regiao = registros_regiao.sum().sort_values(by='registro_ocorrencias',ascending=False)"
      ],
      "execution_count": 20,
      "outputs": []
    },
    {
      "cell_type": "code",
      "metadata": {
        "colab": {
          "base_uri": "https://localhost:8080/"
        },
        "id": "-fm3G-pJlRx_",
        "outputId": "fb1faf25-79c4-4ad9-d999-e5e067fe8362"
      },
      "source": [
        "#Porcentual dos registros da capital\r\n",
        "per = round((registros_regiao['registro_ocorrencias'][0] / df_clean['registro_ocorrencias'].sum()) * 100,2)\r\n",
        "print(\"As ocorrências da Capital registram {}% dos registros de todo o estado\".format(per))"
      ],
      "execution_count": 21,
      "outputs": [
        {
          "output_type": "stream",
          "text": [
            "As ocorrências da Capital registram 48.62% dos registros de todo o estado\n"
          ],
          "name": "stdout"
        }
      ]
    },
    {
      "cell_type": "markdown",
      "metadata": {
        "id": "urJxFdUVmrjw"
      },
      "source": [
        "####Capital\r\n",
        "\r\n",
        "A capital do estado Rio de Janeiro foi a região com mais registros total de todo o dataset. Composta somente por um município, Rio de Janeiro, a capital é responsável por 48% dos casos registrados, conhecida mundialmente como cidade maravilhosa, visitada por turistas do mundo inteiro a cidade do Rio de Janeiro tem números alarmantes. Nesse tópico iremos analisar mais os números da capital fluminense.\r\n",
        "\r\n",
        "<center><img alt=\"Capital\" width=\"70%\" src=\"https://image.freepik.com/fotos-gratis/paisagem-do-rio-de-janeiro-cercada-pelo-mar-sob-um-ceu-azul-no-brasil_181624-17265.jpg\"></center>\r\n"
      ]
    },
    {
      "cell_type": "markdown",
      "metadata": {
        "id": "KxQseHUm7vMe"
      },
      "source": [
        "#####Mês a mês\r\n",
        "\r\n",
        "Em nosso *dataset* temos uma coluna chamada `mes` na qual é representado o mês que obtiveram as ocorrências registradas naquela linha. Com ela podemos identificar em qual mês a cidade do Rio De Janeiro se mostrou mais violente no ano de 2019. Na coluna `mes`. \r\n",
        "\r\n",
        "Obs: Os meses são representados por números, sendo janeiro igual á 1, fevereiro igual á 2 e assim por diante."
      ]
    },
    {
      "cell_type": "code",
      "metadata": {
        "id": "MM-O8dBs8LdE"
      },
      "source": [
        "#Filtrando apenas a cidade do Rio De Janeiro e transformando em um novo dataset\r\n",
        "df_clean.query(\"municipio == 'Rio de Janeiro'\")\r\n",
        "df_rj = df_clean.query(\"municipio == 'Rio de Janeiro'\")\r\n",
        "#Resetando index do dataset df_rj e retirando coluna index\r\n",
        "df_rj.reset_index(inplace=True)\r\n",
        "df_rj = df_rj.drop('index',axis=1)\r\n",
        "#retirando a coluna 'regiao' (todas serão capital)\r\n",
        "df_rj = df_rj.drop('regiao',axis=1)"
      ],
      "execution_count": 22,
      "outputs": []
    },
    {
      "cell_type": "code",
      "metadata": {
        "colab": {
          "base_uri": "https://localhost:8080/",
          "height": 309
        },
        "id": "i5jYCiQP8WGw",
        "outputId": "4a7dc537-fee3-454a-8f74-c25a0c902d46"
      },
      "source": [
        "#Visualizando como ficou o dataset\r\n",
        "df_rj.head()"
      ],
      "execution_count": 23,
      "outputs": [
        {
          "output_type": "execute_result",
          "data": {
            "text/html": [
              "<div>\n",
              "<style scoped>\n",
              "    .dataframe tbody tr th:only-of-type {\n",
              "        vertical-align: middle;\n",
              "    }\n",
              "\n",
              "    .dataframe tbody tr th {\n",
              "        vertical-align: top;\n",
              "    }\n",
              "\n",
              "    .dataframe thead th {\n",
              "        text-align: right;\n",
              "    }\n",
              "</style>\n",
              "<table border=\"1\" class=\"dataframe\">\n",
              "  <thead>\n",
              "    <tr style=\"text-align: right;\">\n",
              "      <th></th>\n",
              "      <th>municipio</th>\n",
              "      <th>mes</th>\n",
              "      <th>hom_doloso</th>\n",
              "      <th>lesao_corp_morte</th>\n",
              "      <th>latrocinio</th>\n",
              "      <th>cvli</th>\n",
              "      <th>hom_por_interv_policial</th>\n",
              "      <th>letalidade_violenta</th>\n",
              "      <th>tentat_hom</th>\n",
              "      <th>lesao_corp_dolosa</th>\n",
              "      <th>estupro</th>\n",
              "      <th>hom_culposo</th>\n",
              "      <th>lesao_corp_culposa</th>\n",
              "      <th>roubo_transeunte</th>\n",
              "      <th>roubo_celular</th>\n",
              "      <th>roubo_em_coletivo</th>\n",
              "      <th>roubo_rua</th>\n",
              "      <th>roubo_veiculo</th>\n",
              "      <th>roubo_carga</th>\n",
              "      <th>roubo_comercio</th>\n",
              "      <th>roubo_residencia</th>\n",
              "      <th>roubo_banco</th>\n",
              "      <th>roubo_cx_eletronico</th>\n",
              "      <th>roubo_conducao_saque</th>\n",
              "      <th>roubo_apos_saque</th>\n",
              "      <th>roubo_bicicleta</th>\n",
              "      <th>outros_roubos</th>\n",
              "      <th>total_roubos</th>\n",
              "      <th>furto_veiculos</th>\n",
              "      <th>furto_transeunte</th>\n",
              "      <th>furto_coletivo</th>\n",
              "      <th>furto_celular</th>\n",
              "      <th>furto_bicicleta</th>\n",
              "      <th>outros_furtos</th>\n",
              "      <th>total_furtos</th>\n",
              "      <th>sequestro</th>\n",
              "      <th>extorsao</th>\n",
              "      <th>sequestro_relampago</th>\n",
              "      <th>estelionato</th>\n",
              "      <th>apreensao_drogas</th>\n",
              "      <th>posse_drogas</th>\n",
              "      <th>trafico_drogas</th>\n",
              "      <th>apreensao_drogas_sem_autor</th>\n",
              "      <th>recuperacao_veiculos</th>\n",
              "      <th>apf</th>\n",
              "      <th>aaapai</th>\n",
              "      <th>cmp</th>\n",
              "      <th>cmba</th>\n",
              "      <th>ameaca</th>\n",
              "      <th>pessoas_desaparecidas</th>\n",
              "      <th>encontro_cadaver</th>\n",
              "      <th>encontro_ossada</th>\n",
              "      <th>pol_militares_mortos_serv</th>\n",
              "      <th>pol_civis_mortos_serv</th>\n",
              "      <th>registro_ocorrencias</th>\n",
              "    </tr>\n",
              "  </thead>\n",
              "  <tbody>\n",
              "    <tr>\n",
              "      <th>0</th>\n",
              "      <td>Rio de Janeiro</td>\n",
              "      <td>1</td>\n",
              "      <td>85</td>\n",
              "      <td>1</td>\n",
              "      <td>3</td>\n",
              "      <td>89</td>\n",
              "      <td>54</td>\n",
              "      <td>143</td>\n",
              "      <td>196</td>\n",
              "      <td>2403</td>\n",
              "      <td>139</td>\n",
              "      <td>40</td>\n",
              "      <td>974</td>\n",
              "      <td>3927</td>\n",
              "      <td>1360</td>\n",
              "      <td>779</td>\n",
              "      <td>6066</td>\n",
              "      <td>1758</td>\n",
              "      <td>283</td>\n",
              "      <td>204</td>\n",
              "      <td>40</td>\n",
              "      <td>1</td>\n",
              "      <td>6</td>\n",
              "      <td>4</td>\n",
              "      <td>54</td>\n",
              "      <td>9</td>\n",
              "      <td>1381</td>\n",
              "      <td>9806</td>\n",
              "      <td>645</td>\n",
              "      <td>1377</td>\n",
              "      <td>578</td>\n",
              "      <td>1019</td>\n",
              "      <td>78</td>\n",
              "      <td>4439</td>\n",
              "      <td>8136</td>\n",
              "      <td>0</td>\n",
              "      <td>72</td>\n",
              "      <td>2</td>\n",
              "      <td>1754</td>\n",
              "      <td>362</td>\n",
              "      <td>87</td>\n",
              "      <td>198</td>\n",
              "      <td>79</td>\n",
              "      <td>1327</td>\n",
              "      <td>911</td>\n",
              "      <td>173</td>\n",
              "      <td>490</td>\n",
              "      <td>146</td>\n",
              "      <td>2123</td>\n",
              "      <td>201</td>\n",
              "      <td>9</td>\n",
              "      <td>0</td>\n",
              "      <td>2</td>\n",
              "      <td>0</td>\n",
              "      <td>33693</td>\n",
              "    </tr>\n",
              "    <tr>\n",
              "      <th>1</th>\n",
              "      <td>Rio de Janeiro</td>\n",
              "      <td>2</td>\n",
              "      <td>82</td>\n",
              "      <td>3</td>\n",
              "      <td>3</td>\n",
              "      <td>88</td>\n",
              "      <td>63</td>\n",
              "      <td>151</td>\n",
              "      <td>141</td>\n",
              "      <td>2001</td>\n",
              "      <td>141</td>\n",
              "      <td>40</td>\n",
              "      <td>843</td>\n",
              "      <td>3780</td>\n",
              "      <td>1238</td>\n",
              "      <td>949</td>\n",
              "      <td>5967</td>\n",
              "      <td>1741</td>\n",
              "      <td>263</td>\n",
              "      <td>217</td>\n",
              "      <td>38</td>\n",
              "      <td>3</td>\n",
              "      <td>1</td>\n",
              "      <td>8</td>\n",
              "      <td>32</td>\n",
              "      <td>11</td>\n",
              "      <td>1255</td>\n",
              "      <td>9536</td>\n",
              "      <td>599</td>\n",
              "      <td>1367</td>\n",
              "      <td>554</td>\n",
              "      <td>1113</td>\n",
              "      <td>59</td>\n",
              "      <td>4219</td>\n",
              "      <td>7911</td>\n",
              "      <td>0</td>\n",
              "      <td>83</td>\n",
              "      <td>5</td>\n",
              "      <td>1803</td>\n",
              "      <td>377</td>\n",
              "      <td>68</td>\n",
              "      <td>208</td>\n",
              "      <td>103</td>\n",
              "      <td>1270</td>\n",
              "      <td>1041</td>\n",
              "      <td>177</td>\n",
              "      <td>503</td>\n",
              "      <td>158</td>\n",
              "      <td>1715</td>\n",
              "      <td>151</td>\n",
              "      <td>14</td>\n",
              "      <td>1</td>\n",
              "      <td>0</td>\n",
              "      <td>0</td>\n",
              "      <td>32487</td>\n",
              "    </tr>\n",
              "    <tr>\n",
              "      <th>2</th>\n",
              "      <td>Rio de Janeiro</td>\n",
              "      <td>3</td>\n",
              "      <td>91</td>\n",
              "      <td>3</td>\n",
              "      <td>3</td>\n",
              "      <td>97</td>\n",
              "      <td>62</td>\n",
              "      <td>159</td>\n",
              "      <td>213</td>\n",
              "      <td>2236</td>\n",
              "      <td>145</td>\n",
              "      <td>49</td>\n",
              "      <td>934</td>\n",
              "      <td>4165</td>\n",
              "      <td>1350</td>\n",
              "      <td>1015</td>\n",
              "      <td>6530</td>\n",
              "      <td>1825</td>\n",
              "      <td>268</td>\n",
              "      <td>241</td>\n",
              "      <td>29</td>\n",
              "      <td>0</td>\n",
              "      <td>2</td>\n",
              "      <td>3</td>\n",
              "      <td>54</td>\n",
              "      <td>9</td>\n",
              "      <td>1452</td>\n",
              "      <td>10413</td>\n",
              "      <td>614</td>\n",
              "      <td>2088</td>\n",
              "      <td>529</td>\n",
              "      <td>1318</td>\n",
              "      <td>96</td>\n",
              "      <td>4876</td>\n",
              "      <td>9521</td>\n",
              "      <td>0</td>\n",
              "      <td>89</td>\n",
              "      <td>3</td>\n",
              "      <td>1724</td>\n",
              "      <td>351</td>\n",
              "      <td>82</td>\n",
              "      <td>210</td>\n",
              "      <td>62</td>\n",
              "      <td>1195</td>\n",
              "      <td>973</td>\n",
              "      <td>254</td>\n",
              "      <td>495</td>\n",
              "      <td>221</td>\n",
              "      <td>1901</td>\n",
              "      <td>168</td>\n",
              "      <td>19</td>\n",
              "      <td>1</td>\n",
              "      <td>2</td>\n",
              "      <td>0</td>\n",
              "      <td>35990</td>\n",
              "    </tr>\n",
              "    <tr>\n",
              "      <th>3</th>\n",
              "      <td>Rio de Janeiro</td>\n",
              "      <td>4</td>\n",
              "      <td>108</td>\n",
              "      <td>1</td>\n",
              "      <td>4</td>\n",
              "      <td>113</td>\n",
              "      <td>51</td>\n",
              "      <td>164</td>\n",
              "      <td>135</td>\n",
              "      <td>2155</td>\n",
              "      <td>142</td>\n",
              "      <td>50</td>\n",
              "      <td>888</td>\n",
              "      <td>3712</td>\n",
              "      <td>1221</td>\n",
              "      <td>1046</td>\n",
              "      <td>5979</td>\n",
              "      <td>1671</td>\n",
              "      <td>251</td>\n",
              "      <td>263</td>\n",
              "      <td>43</td>\n",
              "      <td>2</td>\n",
              "      <td>3</td>\n",
              "      <td>6</td>\n",
              "      <td>47</td>\n",
              "      <td>16</td>\n",
              "      <td>1345</td>\n",
              "      <td>9626</td>\n",
              "      <td>552</td>\n",
              "      <td>1038</td>\n",
              "      <td>473</td>\n",
              "      <td>793</td>\n",
              "      <td>119</td>\n",
              "      <td>4074</td>\n",
              "      <td>7049</td>\n",
              "      <td>0</td>\n",
              "      <td>88</td>\n",
              "      <td>8</td>\n",
              "      <td>1809</td>\n",
              "      <td>383</td>\n",
              "      <td>89</td>\n",
              "      <td>220</td>\n",
              "      <td>77</td>\n",
              "      <td>1228</td>\n",
              "      <td>1076</td>\n",
              "      <td>190</td>\n",
              "      <td>683</td>\n",
              "      <td>248</td>\n",
              "      <td>1793</td>\n",
              "      <td>153</td>\n",
              "      <td>12</td>\n",
              "      <td>0</td>\n",
              "      <td>0</td>\n",
              "      <td>0</td>\n",
              "      <td>32254</td>\n",
              "    </tr>\n",
              "    <tr>\n",
              "      <th>4</th>\n",
              "      <td>Rio de Janeiro</td>\n",
              "      <td>5</td>\n",
              "      <td>104</td>\n",
              "      <td>1</td>\n",
              "      <td>4</td>\n",
              "      <td>109</td>\n",
              "      <td>78</td>\n",
              "      <td>187</td>\n",
              "      <td>152</td>\n",
              "      <td>1872</td>\n",
              "      <td>150</td>\n",
              "      <td>45</td>\n",
              "      <td>1004</td>\n",
              "      <td>3664</td>\n",
              "      <td>1291</td>\n",
              "      <td>1038</td>\n",
              "      <td>5993</td>\n",
              "      <td>1635</td>\n",
              "      <td>278</td>\n",
              "      <td>282</td>\n",
              "      <td>30</td>\n",
              "      <td>1</td>\n",
              "      <td>1</td>\n",
              "      <td>6</td>\n",
              "      <td>56</td>\n",
              "      <td>5</td>\n",
              "      <td>1283</td>\n",
              "      <td>9570</td>\n",
              "      <td>672</td>\n",
              "      <td>974</td>\n",
              "      <td>597</td>\n",
              "      <td>882</td>\n",
              "      <td>101</td>\n",
              "      <td>4438</td>\n",
              "      <td>7664</td>\n",
              "      <td>0</td>\n",
              "      <td>72</td>\n",
              "      <td>6</td>\n",
              "      <td>1939</td>\n",
              "      <td>361</td>\n",
              "      <td>78</td>\n",
              "      <td>196</td>\n",
              "      <td>90</td>\n",
              "      <td>1167</td>\n",
              "      <td>1081</td>\n",
              "      <td>173</td>\n",
              "      <td>712</td>\n",
              "      <td>168</td>\n",
              "      <td>1726</td>\n",
              "      <td>173</td>\n",
              "      <td>7</td>\n",
              "      <td>0</td>\n",
              "      <td>0</td>\n",
              "      <td>0</td>\n",
              "      <td>33078</td>\n",
              "    </tr>\n",
              "  </tbody>\n",
              "</table>\n",
              "</div>"
            ],
            "text/plain": [
              "        municipio  mes  ...  pol_civis_mortos_serv  registro_ocorrencias\n",
              "0  Rio de Janeiro    1  ...                      0                 33693\n",
              "1  Rio de Janeiro    2  ...                      0                 32487\n",
              "2  Rio de Janeiro    3  ...                      0                 35990\n",
              "3  Rio de Janeiro    4  ...                      0                 32254\n",
              "4  Rio de Janeiro    5  ...                      0                 33078\n",
              "\n",
              "[5 rows x 55 columns]"
            ]
          },
          "metadata": {
            "tags": []
          },
          "execution_count": 23
        }
      ]
    },
    {
      "cell_type": "code",
      "metadata": {
        "colab": {
          "base_uri": "https://localhost:8080/",
          "height": 421
        },
        "id": "3wefEW40-4Ln",
        "outputId": "a48d95a4-9a45-476f-dc56-e449e5fd45df"
      },
      "source": [
        "#Mês com mais entradas totais\r\n",
        "df_rj[['mes','registro_ocorrencias']].sort_values(by='registro_ocorrencias',ascending=False).reset_index().drop('index',axis=1)\r\n"
      ],
      "execution_count": 53,
      "outputs": [
        {
          "output_type": "execute_result",
          "data": {
            "text/html": [
              "<div>\n",
              "<style scoped>\n",
              "    .dataframe tbody tr th:only-of-type {\n",
              "        vertical-align: middle;\n",
              "    }\n",
              "\n",
              "    .dataframe tbody tr th {\n",
              "        vertical-align: top;\n",
              "    }\n",
              "\n",
              "    .dataframe thead th {\n",
              "        text-align: right;\n",
              "    }\n",
              "</style>\n",
              "<table border=\"1\" class=\"dataframe\">\n",
              "  <thead>\n",
              "    <tr style=\"text-align: right;\">\n",
              "      <th></th>\n",
              "      <th>mes</th>\n",
              "      <th>registro_ocorrencias</th>\n",
              "    </tr>\n",
              "  </thead>\n",
              "  <tbody>\n",
              "    <tr>\n",
              "      <th>0</th>\n",
              "      <td>3</td>\n",
              "      <td>35990</td>\n",
              "    </tr>\n",
              "    <tr>\n",
              "      <th>1</th>\n",
              "      <td>1</td>\n",
              "      <td>33693</td>\n",
              "    </tr>\n",
              "    <tr>\n",
              "      <th>2</th>\n",
              "      <td>5</td>\n",
              "      <td>33078</td>\n",
              "    </tr>\n",
              "    <tr>\n",
              "      <th>3</th>\n",
              "      <td>2</td>\n",
              "      <td>32487</td>\n",
              "    </tr>\n",
              "    <tr>\n",
              "      <th>4</th>\n",
              "      <td>10</td>\n",
              "      <td>32287</td>\n",
              "    </tr>\n",
              "    <tr>\n",
              "      <th>5</th>\n",
              "      <td>4</td>\n",
              "      <td>32254</td>\n",
              "    </tr>\n",
              "    <tr>\n",
              "      <th>6</th>\n",
              "      <td>7</td>\n",
              "      <td>32131</td>\n",
              "    </tr>\n",
              "    <tr>\n",
              "      <th>7</th>\n",
              "      <td>8</td>\n",
              "      <td>31695</td>\n",
              "    </tr>\n",
              "    <tr>\n",
              "      <th>8</th>\n",
              "      <td>11</td>\n",
              "      <td>29620</td>\n",
              "    </tr>\n",
              "    <tr>\n",
              "      <th>9</th>\n",
              "      <td>12</td>\n",
              "      <td>29292</td>\n",
              "    </tr>\n",
              "    <tr>\n",
              "      <th>10</th>\n",
              "      <td>6</td>\n",
              "      <td>29027</td>\n",
              "    </tr>\n",
              "    <tr>\n",
              "      <th>11</th>\n",
              "      <td>9</td>\n",
              "      <td>28435</td>\n",
              "    </tr>\n",
              "  </tbody>\n",
              "</table>\n",
              "</div>"
            ],
            "text/plain": [
              "    mes  registro_ocorrencias\n",
              "0     3                 35990\n",
              "1     1                 33693\n",
              "2     5                 33078\n",
              "3     2                 32487\n",
              "4    10                 32287\n",
              "5     4                 32254\n",
              "6     7                 32131\n",
              "7     8                 31695\n",
              "8    11                 29620\n",
              "9    12                 29292\n",
              "10    6                 29027\n",
              "11    9                 28435"
            ]
          },
          "metadata": {
            "tags": []
          },
          "execution_count": 53
        }
      ]
    },
    {
      "cell_type": "markdown",
      "metadata": {
        "id": "6TiXGIh1AXIj"
      },
      "source": [
        "Como podemos observar acima o mês de **Março** foi o mês com maior registros de ocorrências, com o total de 35990 entradas. O segundo mês com maior taxa foi o de Janeiro, com mais de 2000 casos a menos.\r\n",
        "\r\n",
        "É interessante citar que:\r\n",
        "\r\n",
        "*   O mês de Março, dado como mais perigoso, foi o mês que recebeu o carnaval do ano de 2019, evento festivo da cidade que recebe turistas do mundo inteiro e ocasionalmente deixa a cidade mais movimentada.\r\n",
        "\r\n",
        "<center><img alt = \"Carnaval\" width=\"60%\" src=\"https://images.squarespace-cdn.com/content/v1/55fb2427e4b0da1952ff44aa/1485521761996-8QARTZVQ9WD1Z06U7SY0/ke17ZwdGBToddI8pDm48kMIebV6MdNPQMcRDrC5oPxMUqsxRUqqbr1mOJYKfIPR7LoDQ9mXPOjoJoqy81S2I8N_N4V1vUb5AoIIIbLZhVYxCRW4BPu10St3TBAUQYVKc73FUbOtyHSZLq0696RfXhzOQ1C7e-4RYctpOI87j69--0uIsXqDbvJ5MkV0zcn4f/image-asset.jpeg?format=1500w\"</center>\r\n",
        "\r\n",
        "\r\n"
      ]
    },
    {
      "cell_type": "markdown",
      "metadata": {
        "id": "r1mPkNjdDJTg"
      },
      "source": [
        "*   Dos 6 meses mais perigosos, 5 deles estão no primeiro semestre do ano, levando isso em consideração, podemos dizer que o ano de **2019 começou mais perigoso do que terminou.** Essa confirmação fica nítida quando observamos o gráfico abaixo."
      ]
    },
    {
      "cell_type": "code",
      "metadata": {
        "colab": {
          "base_uri": "https://localhost:8080/",
          "height": 312
        },
        "id": "dhNsTQtWOFh-",
        "outputId": "5cb7c42f-6d34-4923-8751-d09fcc3e05a4"
      },
      "source": [
        "plt.plot(df_rj.mes,df_rj.registro_ocorrencias,'ro-')\r\n",
        "plt.xlabel('Mês')\r\n",
        "plt.ylabel('Registros')\r\n",
        "plt.title(\"Quantidade de registros por mês\")"
      ],
      "execution_count": 25,
      "outputs": [
        {
          "output_type": "execute_result",
          "data": {
            "text/plain": [
              "Text(0.5, 1.0, 'Quantidade de registros por mês')"
            ]
          },
          "metadata": {
            "tags": []
          },
          "execution_count": 25
        },
        {
          "output_type": "display_data",
          "data": {
            "image/png": "[encoded data removed]",
            "text/plain": [
              "<Figure size 432x288 with 1 Axes>"
            ]
          },
          "metadata": {
            "tags": [],
            "needs_background": "light"
          }
        }
      ]
    },
    {
      "cell_type": "markdown",
      "metadata": {
        "id": "1qFB62ATt56C"
      },
      "source": [
        "Após concluirmos que na capital, o início do ano é um período mais violento do que o final, fica o questionamento: Será que essa característica é somente da capital? Ou será um comportamento em todo o estado? Para responder essa questão faremos:\r\n",
        "\r\n",
        "\r\n",
        "\r\n",
        "*  Analisaremos os números de outras regiões\r\n",
        "\r\n",
        "*   Analisaremos os números totais de todo o *dataset*\r\n",
        "\r\n",
        "\r\n"
      ]
    },
    {
      "cell_type": "markdown",
      "metadata": {
        "id": "PaWb6aBRu0IQ"
      },
      "source": [
        "####Outras regiões\r\n",
        "Para realizamos o primeiro passo, devemos identificar qual munícipio registrou mais ocorrência em cada região que resta (Grande Niterói, Baixada e Interior)"
      ]
    },
    {
      "cell_type": "markdown",
      "metadata": {
        "id": "tw0TuNGnHl10"
      },
      "source": [
        "*   Grande Niterói\r\n",
        "\r\n",
        "Abaixo verificaremos os números dos municípios da região Grande Niterói.\r\n",
        "\r\n",
        "<center><img alt = \"nit\" width=\"50%\" src=\"https://upload.wikimedia.org/wikipedia/commons/5/52/RiodeJaneiro_RMAntiga_GrandeNiteroi.png\"</center>"
      ]
    },
    {
      "cell_type": "code",
      "metadata": {
        "colab": {
          "base_uri": "https://localhost:8080/",
          "height": 173
        },
        "id": "gS9D9583wrNa",
        "outputId": "95b8a7e2-05da-4964-8bc9-c032cb0b2aeb"
      },
      "source": [
        "#Grande Niterói\r\n",
        "df_nit=df_clean.query(\"regiao == 'Grande Niterói'\")[['municipio','registro_ocorrencias']].sort_values(by='registro_ocorrencias')\r\n",
        "dfg_nit=df_nit.groupby('municipio')\r\n",
        "dfg_nit.sum()\r\n",
        "dfg_nit = dfg_nit.sum()\r\n",
        "dfg_nit.sort_values(by='registro_ocorrencias',ascending=False).head(10)\r\n"
      ],
      "execution_count": 26,
      "outputs": [
        {
          "output_type": "execute_result",
          "data": {
            "text/html": [
              "<div>\n",
              "<style scoped>\n",
              "    .dataframe tbody tr th:only-of-type {\n",
              "        vertical-align: middle;\n",
              "    }\n",
              "\n",
              "    .dataframe tbody tr th {\n",
              "        vertical-align: top;\n",
              "    }\n",
              "\n",
              "    .dataframe thead th {\n",
              "        text-align: right;\n",
              "    }\n",
              "</style>\n",
              "<table border=\"1\" class=\"dataframe\">\n",
              "  <thead>\n",
              "    <tr style=\"text-align: right;\">\n",
              "      <th></th>\n",
              "      <th>registro_ocorrencias</th>\n",
              "    </tr>\n",
              "    <tr>\n",
              "      <th>municipio</th>\n",
              "      <th></th>\n",
              "    </tr>\n",
              "  </thead>\n",
              "  <tbody>\n",
              "    <tr>\n",
              "      <th>São Gonçalo</th>\n",
              "      <td>44647</td>\n",
              "    </tr>\n",
              "    <tr>\n",
              "      <th>Niterói</th>\n",
              "      <td>26643</td>\n",
              "    </tr>\n",
              "    <tr>\n",
              "      <th>Maricá</th>\n",
              "      <td>5935</td>\n",
              "    </tr>\n",
              "  </tbody>\n",
              "</table>\n",
              "</div>"
            ],
            "text/plain": [
              "             registro_ocorrencias\n",
              "municipio                        \n",
              "São Gonçalo                 44647\n",
              "Niterói                     26643\n",
              "Maricá                       5935"
            ]
          },
          "metadata": {
            "tags": []
          },
          "execution_count": 26
        }
      ]
    },
    {
      "cell_type": "markdown",
      "metadata": {
        "id": "SZzBbYsPzKUc"
      },
      "source": [
        "\r\n",
        " **A Cidade com mais registros na Grande Niterói é : São Gonçalo.**\r\n",
        "\r\n",
        "\r\n",
        "---\r\n",
        "\r\n",
        "\r\n"
      ]
    },
    {
      "cell_type": "markdown",
      "metadata": {
        "id": "0iRxStBrJ1LP"
      },
      "source": [
        "*   Baixada Fluminense\r\n",
        "\r\n",
        "Abaixo verificaremos os números dos municípios da região Baixada Fluminense.\r\n",
        "\r\n"
      ]
    },
    {
      "cell_type": "markdown",
      "metadata": {
        "id": "j0uI6dQtK8MH"
      },
      "source": [
        "<center><img alt = \"nit\" width=\"50%\" src=\"https://upload.wikimedia.org/wikipedia/commons/thumb/2/24/RiodeJaneiro_Regiao_LesteFluminense.png/300px-RiodeJaneiro_Regiao_LesteFluminense.png\"</center>"
      ]
    },
    {
      "cell_type": "code",
      "metadata": {
        "colab": {
          "base_uri": "https://localhost:8080/",
          "height": 390
        },
        "id": "dQmaRCPEzbpB",
        "outputId": "2dfdad94-2a3d-4384-cedd-3c2163f24594"
      },
      "source": [
        "#Baixada Fluminense\r\n",
        "df_bai=df_clean.query(\"regiao == 'Baixada Fluminense'\")[['municipio','registro_ocorrencias']].sort_values(by='registro_ocorrencias')\r\n",
        "dfg_bai=df_bai.groupby('municipio')\r\n",
        "dfg_bai=dfg_bai.sum()\r\n",
        "dfg_bai.sort_values(by='registro_ocorrencias',ascending=False).head(10)"
      ],
      "execution_count": 27,
      "outputs": [
        {
          "output_type": "execute_result",
          "data": {
            "text/html": [
              "<div>\n",
              "<style scoped>\n",
              "    .dataframe tbody tr th:only-of-type {\n",
              "        vertical-align: middle;\n",
              "    }\n",
              "\n",
              "    .dataframe tbody tr th {\n",
              "        vertical-align: top;\n",
              "    }\n",
              "\n",
              "    .dataframe thead th {\n",
              "        text-align: right;\n",
              "    }\n",
              "</style>\n",
              "<table border=\"1\" class=\"dataframe\">\n",
              "  <thead>\n",
              "    <tr style=\"text-align: right;\">\n",
              "      <th></th>\n",
              "      <th>registro_ocorrencias</th>\n",
              "    </tr>\n",
              "    <tr>\n",
              "      <th>municipio</th>\n",
              "      <th></th>\n",
              "    </tr>\n",
              "  </thead>\n",
              "  <tbody>\n",
              "    <tr>\n",
              "      <th>Duque de Caxias</th>\n",
              "      <td>40715</td>\n",
              "    </tr>\n",
              "    <tr>\n",
              "      <th>Nova Iguaçu</th>\n",
              "      <td>32423</td>\n",
              "    </tr>\n",
              "    <tr>\n",
              "      <th>São João de Meriti</th>\n",
              "      <td>24063</td>\n",
              "    </tr>\n",
              "    <tr>\n",
              "      <th>Belford Roxo</th>\n",
              "      <td>16019</td>\n",
              "    </tr>\n",
              "    <tr>\n",
              "      <th>Magé</th>\n",
              "      <td>7993</td>\n",
              "    </tr>\n",
              "    <tr>\n",
              "      <th>Mesquita</th>\n",
              "      <td>7629</td>\n",
              "    </tr>\n",
              "    <tr>\n",
              "      <th>Nilópolis</th>\n",
              "      <td>7584</td>\n",
              "    </tr>\n",
              "    <tr>\n",
              "      <th>Queimados</th>\n",
              "      <td>4775</td>\n",
              "    </tr>\n",
              "    <tr>\n",
              "      <th>Itaguaí</th>\n",
              "      <td>4590</td>\n",
              "    </tr>\n",
              "    <tr>\n",
              "      <th>Seropédica</th>\n",
              "      <td>3059</td>\n",
              "    </tr>\n",
              "  </tbody>\n",
              "</table>\n",
              "</div>"
            ],
            "text/plain": [
              "                    registro_ocorrencias\n",
              "municipio                               \n",
              "Duque de Caxias                    40715\n",
              "Nova Iguaçu                        32423\n",
              "São João de Meriti                 24063\n",
              "Belford Roxo                       16019\n",
              "Magé                                7993\n",
              "Mesquita                            7629\n",
              "Nilópolis                           7584\n",
              "Queimados                           4775\n",
              "Itaguaí                             4590\n",
              "Seropédica                          3059"
            ]
          },
          "metadata": {
            "tags": []
          },
          "execution_count": 27
        }
      ]
    },
    {
      "cell_type": "markdown",
      "metadata": {
        "id": "3vzU3k9Z1Kz9"
      },
      "source": [
        "*  **A Cidade com mais registros na Baixada Fluminense é : Duque de Caxias.**\r\n",
        "\r\n",
        "\r\n",
        "---\r\n",
        "\r\n"
      ]
    },
    {
      "cell_type": "markdown",
      "metadata": {
        "id": "2gS7QslcMlfo"
      },
      "source": [
        "\r\n",
        "*   Interior\r\n",
        "\r\n",
        "Abaixo verificaremos os números dos municípios da região Interior.\r\n",
        "\r\n",
        "\r\n",
        "\r\n"
      ]
    },
    {
      "cell_type": "markdown",
      "metadata": {
        "id": "aGzYPl1COjzT"
      },
      "source": [
        "<center><img alt = \"nit\" width=\"50%\" src=\"https://i.ibb.co/pJmDZWt/int.jpg\"</center>"
      ]
    },
    {
      "cell_type": "code",
      "metadata": {
        "colab": {
          "base_uri": "https://localhost:8080/",
          "height": 390
        },
        "id": "m385wpIJ1SfH",
        "outputId": "572585e6-e7ef-404f-8319-a26067662673"
      },
      "source": [
        "#Interior\r\n",
        "df_int=df_clean.query(\"regiao == 'Interior'\")[['municipio','registro_ocorrencias']].sort_values(by='registro_ocorrencias')\r\n",
        "dfg_int=df_int.groupby('municipio')\r\n",
        "dfg_int=dfg_int.sum()\r\n",
        "dfg_int.sort_values(by='registro_ocorrencias',ascending=False).head(10)"
      ],
      "execution_count": 28,
      "outputs": [
        {
          "output_type": "execute_result",
          "data": {
            "text/html": [
              "<div>\n",
              "<style scoped>\n",
              "    .dataframe tbody tr th:only-of-type {\n",
              "        vertical-align: middle;\n",
              "    }\n",
              "\n",
              "    .dataframe tbody tr th {\n",
              "        vertical-align: top;\n",
              "    }\n",
              "\n",
              "    .dataframe thead th {\n",
              "        text-align: right;\n",
              "    }\n",
              "</style>\n",
              "<table border=\"1\" class=\"dataframe\">\n",
              "  <thead>\n",
              "    <tr style=\"text-align: right;\">\n",
              "      <th></th>\n",
              "      <th>registro_ocorrencias</th>\n",
              "    </tr>\n",
              "    <tr>\n",
              "      <th>municipio</th>\n",
              "      <th></th>\n",
              "    </tr>\n",
              "  </thead>\n",
              "  <tbody>\n",
              "    <tr>\n",
              "      <th>Campos dos Goytacazes</th>\n",
              "      <td>14530</td>\n",
              "    </tr>\n",
              "    <tr>\n",
              "      <th>Petrópolis</th>\n",
              "      <td>10517</td>\n",
              "    </tr>\n",
              "    <tr>\n",
              "      <th>Cabo Frio</th>\n",
              "      <td>8237</td>\n",
              "    </tr>\n",
              "    <tr>\n",
              "      <th>Macaé</th>\n",
              "      <td>8196</td>\n",
              "    </tr>\n",
              "    <tr>\n",
              "      <th>Itaboraí</th>\n",
              "      <td>8190</td>\n",
              "    </tr>\n",
              "    <tr>\n",
              "      <th>Volta Redonda</th>\n",
              "      <td>8122</td>\n",
              "    </tr>\n",
              "    <tr>\n",
              "      <th>Rio das Ostras</th>\n",
              "      <td>7028</td>\n",
              "    </tr>\n",
              "    <tr>\n",
              "      <th>Teresópolis</th>\n",
              "      <td>6513</td>\n",
              "    </tr>\n",
              "    <tr>\n",
              "      <th>Nova Friburgo</th>\n",
              "      <td>6132</td>\n",
              "    </tr>\n",
              "    <tr>\n",
              "      <th>Araruama</th>\n",
              "      <td>5816</td>\n",
              "    </tr>\n",
              "  </tbody>\n",
              "</table>\n",
              "</div>"
            ],
            "text/plain": [
              "                       registro_ocorrencias\n",
              "municipio                                  \n",
              "Campos dos Goytacazes                 14530\n",
              "Petrópolis                            10517\n",
              "Cabo Frio                              8237\n",
              "Macaé                                  8196\n",
              "Itaboraí                               8190\n",
              "Volta Redonda                          8122\n",
              "Rio das Ostras                         7028\n",
              "Teresópolis                            6513\n",
              "Nova Friburgo                          6132\n",
              "Araruama                               5816"
            ]
          },
          "metadata": {
            "tags": []
          },
          "execution_count": 28
        }
      ]
    },
    {
      "cell_type": "markdown",
      "metadata": {
        "id": "BIx87vkG2OBm"
      },
      "source": [
        "*  **A Cidade com mais registros no Interior é : Campos dos Goytacazes.**\r\n",
        "\r\n",
        "\r\n",
        "---\r\n",
        "\r\n"
      ]
    },
    {
      "cell_type": "markdown",
      "metadata": {
        "id": "dvRTsSxe2Xg5"
      },
      "source": [
        "##### Comparação mês a mês\r\n",
        "Agora que identificamos os munícipios com maiores números totais em cada região, plotaremos gráficos de ocorrências para comparar o comportamento em cada região"
      ]
    },
    {
      "cell_type": "code",
      "metadata": {
        "id": "QwbPdAkP2_Oy"
      },
      "source": [
        "#criação de um dataset com as cidades com maiores números\r\n",
        "df_cits=df_clean.query(\"municipio =='Rio de Janeiro' | municipio == 'São Gonçalo' | municipio == 'Duque de Caxias' | municipio == 'Campos dos Goytacazes'\" )\r\n",
        "df_cits=df_cits[[\"municipio\",\"mes\",\"registro_ocorrencias\"]]"
      ],
      "execution_count": 29,
      "outputs": []
    },
    {
      "cell_type": "code",
      "metadata": {
        "id": "6caOXPUSIHqM"
      },
      "source": [
        "#criação da figura e seus subplots para 4 gráficos\r\n",
        "fig, ax = plt.subplots(nrows=2,ncols=2,figsize=(12,8))"
      ],
      "execution_count": null,
      "outputs": []
    },
    {
      "cell_type": "code",
      "metadata": {
        "colab": {
          "base_uri": "https://localhost:8080/",
          "height": 499
        },
        "id": "5y9rCOyNI_f_",
        "outputId": "e44a8a0d-c3b0-4d33-f760-0ddf6a493e57"
      },
      "source": [
        "#plotagem dos gráficos\r\n",
        "ax[0,0].plot(df_cits.mes.unique(),df_cits.loc[df_cits['municipio']== 'Rio de Janeiro'].registro_ocorrencias,'bo-')\r\n",
        "ax[0,0].set_title('Rio de Janeiro')\r\n",
        "ax[0,0].grid()\r\n",
        "ax[0,1].plot(df_cits.mes.unique(),df_cits.loc[df_cits['municipio']== 'Duque de Caxias'].registro_ocorrencias,'ro-')\r\n",
        "ax[0,1].set_title('Duque de Caxias')\r\n",
        "ax[0,1].grid()\r\n",
        "ax[1,0].plot(df_cits.mes.unique(),df_cits.loc[df_cits['municipio']== 'São Gonçalo'].registro_ocorrencias,'go-')\r\n",
        "ax[1,0].set_title('São Gonçalo')\r\n",
        "ax[1,0].grid()\r\n",
        "ax[1,1].plot(df_cits.mes.unique(),df_cits.loc[df_cits['municipio']== 'Campos dos Goytacazes'].registro_ocorrencias,'yo-')\r\n",
        "ax[1,1].set_title('Campos dos Goytacazes')\r\n",
        "ax[1,1].grid()\r\n",
        "\r\n",
        "\r\n",
        "fig\r\n",
        "\r\n"
      ],
      "execution_count": 31,
      "outputs": [
        {
          "output_type": "execute_result",
          "data": {
            "image/png": "[encoded data removed]",
            "text/plain": [
              "<Figure size 864x576 with 4 Axes>"
            ]
          },
          "metadata": {
            "tags": []
          },
          "execution_count": 31
        }
      ]
    },
    {
      "cell_type": "markdown",
      "metadata": {
        "id": "2RfICR48AsmM"
      },
      "source": [
        "Analisando os gráficos acima, podemos afirmar que:\r\n",
        "\r\n",
        "\r\n",
        "*   Exceto a cidade Duque de Caxias, da baixada, todas regiões tem seu pico de crescimento entre os meses 2 e 4 (fevereiro e abril).\r\n",
        "\r\n",
        "*   O comportamento dos gráficos de Rio de Janeiro (Capital) e São Gonçalo (Grande Niterói) são muito semelhantes.\r\n",
        "\r\n",
        "*  Todos municípios registraram mais ocorrências no primeiro semestre.\r\n",
        "\r\n",
        "\r\n",
        "\r\n",
        "\r\n",
        "\r\n",
        "\r\n",
        "\r\n",
        "\r\n"
      ]
    },
    {
      "cell_type": "markdown",
      "metadata": {
        "id": "J1GXrVcJLWU7"
      },
      "source": [
        "###Letalidade violenta\r\n",
        "\r\n",
        "Em nosso *dataset* temos uma coluna chamada `letalidade_violenta`, nessa coluna temos todos os crimes que englobam homicídio doloso, lesão seguida de morte, latrocínio e morte pela polícia. Veremos o comportamento e características desse índice no estado do Rio de Janeiro.\r\n",
        "\r\n",
        "<center><img alt = \"Letalidade\" width=\"60%\" src=\"https://img.buzzfeed.com/buzzfeed-static/static/2015-10/24/11/enhanced/webdr14/original-19240-1445699153-4.jpg?downsize=800:*&output-format=auto&output-quality=auto\"</center>\r\n",
        "\"</center>\r\n"
      ]
    },
    {
      "cell_type": "markdown",
      "metadata": {
        "id": "Ng4WdWOFcrbp"
      },
      "source": [
        "####Quais são os crimes?\r\n",
        "\r\n",
        "Como citado acima, os crimes de letalidade violenta são:\r\n",
        "\r\n",
        "*   Homicídio doloso (Quando se tem a intenção de matar).\r\n",
        "*   Lesão corporal seguida de morte.\r\n",
        "*   Latrocínio (Roubo seguido de morte).\r\n",
        "*   Morte por intervenção do agente do Estado.\r\n",
        "\r\n",
        "Abaixo, um gráfico para ilustrar a quantidade de casos desses crimes registrados em todo estado.\r\n",
        "\r\n"
      ]
    },
    {
      "cell_type": "code",
      "metadata": {
        "colab": {
          "base_uri": "https://localhost:8080/",
          "height": 173
        },
        "id": "8z9ybTQje6FV",
        "outputId": "b0aebd9d-eb5b-4ed2-e8da-0a90a28f2fde"
      },
      "source": [
        "#criando um df com os numeros somados\r\n",
        "letalit=df_clean[['hom_doloso','lesao_corp_morte','latrocinio','hom_por_interv_policial']].sum()\r\n",
        "letalit=letalit.to_frame(\"quantidade\")\r\n",
        "letalit"
      ],
      "execution_count": 32,
      "outputs": [
        {
          "output_type": "execute_result",
          "data": {
            "text/html": [
              "<div>\n",
              "<style scoped>\n",
              "    .dataframe tbody tr th:only-of-type {\n",
              "        vertical-align: middle;\n",
              "    }\n",
              "\n",
              "    .dataframe tbody tr th {\n",
              "        vertical-align: top;\n",
              "    }\n",
              "\n",
              "    .dataframe thead th {\n",
              "        text-align: right;\n",
              "    }\n",
              "</style>\n",
              "<table border=\"1\" class=\"dataframe\">\n",
              "  <thead>\n",
              "    <tr style=\"text-align: right;\">\n",
              "      <th></th>\n",
              "      <th>quantidade</th>\n",
              "    </tr>\n",
              "  </thead>\n",
              "  <tbody>\n",
              "    <tr>\n",
              "      <th>hom_doloso</th>\n",
              "      <td>4004</td>\n",
              "    </tr>\n",
              "    <tr>\n",
              "      <th>lesao_corp_morte</th>\n",
              "      <td>45</td>\n",
              "    </tr>\n",
              "    <tr>\n",
              "      <th>latrocinio</th>\n",
              "      <td>117</td>\n",
              "    </tr>\n",
              "    <tr>\n",
              "      <th>hom_por_interv_policial</th>\n",
              "      <td>1814</td>\n",
              "    </tr>\n",
              "  </tbody>\n",
              "</table>\n",
              "</div>"
            ],
            "text/plain": [
              "                         quantidade\n",
              "hom_doloso                     4004\n",
              "lesao_corp_morte                 45\n",
              "latrocinio                      117\n",
              "hom_por_interv_policial        1814"
            ]
          },
          "metadata": {
            "tags": []
          },
          "execution_count": 32
        }
      ]
    },
    {
      "cell_type": "code",
      "metadata": {
        "colab": {
          "base_uri": "https://localhost:8080/",
          "height": 266
        },
        "id": "tGeDxn-JjpjU",
        "outputId": "1b51632c-c056-4eb4-caa0-449456735089"
      },
      "source": [
        "#gráfico dos números somados\r\n",
        "plt.bar(letalit.index,letalit['quantidade'])\r\n",
        "plt.show()"
      ],
      "execution_count": 33,
      "outputs": [
        {
          "output_type": "display_data",
          "data": {
            "image/png": "[encoded data removed]",
            "text/plain": [
              "<Figure size 432x288 with 1 Axes>"
            ]
          },
          "metadata": {
            "tags": [],
            "needs_background": "light"
          }
        }
      ]
    },
    {
      "cell_type": "markdown",
      "metadata": {
        "id": "vFkon3Asln51"
      },
      "source": [
        "####Cidades com mais registros\r\n",
        "Após vermos os números em todo estado, identificaremos as cidades que mais contribuem para esses números."
      ]
    },
    {
      "cell_type": "code",
      "metadata": {
        "colab": {
          "base_uri": "https://localhost:8080/",
          "height": 235
        },
        "id": "EmaWQ8QRmXAJ",
        "outputId": "7af5391c-0cca-490a-a69f-85a00722a7e8"
      },
      "source": [
        "#criando um df com municipio, região e número de total de letalidade\r\n",
        "letalit=df_clean[['municipio','regiao','letalidade_violenta']]\r\n",
        "letalit=letalit.groupby(by='municipio').sum()\r\n",
        "letalit=letalit.sort_values(by='letalidade_violenta',ascending=False)\r\n",
        "#as 10 cidades com maiores números\r\n",
        "letalit.head(5)"
      ],
      "execution_count": 34,
      "outputs": [
        {
          "output_type": "execute_result",
          "data": {
            "text/html": [
              "<div>\n",
              "<style scoped>\n",
              "    .dataframe tbody tr th:only-of-type {\n",
              "        vertical-align: middle;\n",
              "    }\n",
              "\n",
              "    .dataframe tbody tr th {\n",
              "        vertical-align: top;\n",
              "    }\n",
              "\n",
              "    .dataframe thead th {\n",
              "        text-align: right;\n",
              "    }\n",
              "</style>\n",
              "<table border=\"1\" class=\"dataframe\">\n",
              "  <thead>\n",
              "    <tr style=\"text-align: right;\">\n",
              "      <th></th>\n",
              "      <th>letalidade_violenta</th>\n",
              "    </tr>\n",
              "    <tr>\n",
              "      <th>municipio</th>\n",
              "      <th></th>\n",
              "    </tr>\n",
              "  </thead>\n",
              "  <tbody>\n",
              "    <tr>\n",
              "      <th>Rio de Janeiro</th>\n",
              "      <td>1913</td>\n",
              "    </tr>\n",
              "    <tr>\n",
              "      <th>São Gonçalo</th>\n",
              "      <td>498</td>\n",
              "    </tr>\n",
              "    <tr>\n",
              "      <th>Duque de Caxias</th>\n",
              "      <td>407</td>\n",
              "    </tr>\n",
              "    <tr>\n",
              "      <th>Nova Iguaçu</th>\n",
              "      <td>372</td>\n",
              "    </tr>\n",
              "    <tr>\n",
              "      <th>Belford Roxo</th>\n",
              "      <td>327</td>\n",
              "    </tr>\n",
              "  </tbody>\n",
              "</table>\n",
              "</div>"
            ],
            "text/plain": [
              "                 letalidade_violenta\n",
              "municipio                           \n",
              "Rio de Janeiro                  1913\n",
              "São Gonçalo                      498\n",
              "Duque de Caxias                  407\n",
              "Nova Iguaçu                      372\n",
              "Belford Roxo                     327"
            ]
          },
          "metadata": {
            "tags": []
          },
          "execution_count": 34
        }
      ]
    },
    {
      "cell_type": "code",
      "metadata": {
        "colab": {
          "base_uri": "https://localhost:8080/",
          "height": 235
        },
        "id": "RLi9Lt3BorXZ",
        "outputId": "5fc26c8e-5dd7-44ba-a3c0-2de14236b54d"
      },
      "source": [
        "#Porcetagem dos casos totais por cidade.\r\n",
        "(round(letalit / df_clean['letalidade_violenta'].sum(),2)).head(5)"
      ],
      "execution_count": 35,
      "outputs": [
        {
          "output_type": "execute_result",
          "data": {
            "text/html": [
              "<div>\n",
              "<style scoped>\n",
              "    .dataframe tbody tr th:only-of-type {\n",
              "        vertical-align: middle;\n",
              "    }\n",
              "\n",
              "    .dataframe tbody tr th {\n",
              "        vertical-align: top;\n",
              "    }\n",
              "\n",
              "    .dataframe thead th {\n",
              "        text-align: right;\n",
              "    }\n",
              "</style>\n",
              "<table border=\"1\" class=\"dataframe\">\n",
              "  <thead>\n",
              "    <tr style=\"text-align: right;\">\n",
              "      <th></th>\n",
              "      <th>letalidade_violenta</th>\n",
              "    </tr>\n",
              "    <tr>\n",
              "      <th>municipio</th>\n",
              "      <th></th>\n",
              "    </tr>\n",
              "  </thead>\n",
              "  <tbody>\n",
              "    <tr>\n",
              "      <th>Rio de Janeiro</th>\n",
              "      <td>0.32</td>\n",
              "    </tr>\n",
              "    <tr>\n",
              "      <th>São Gonçalo</th>\n",
              "      <td>0.08</td>\n",
              "    </tr>\n",
              "    <tr>\n",
              "      <th>Duque de Caxias</th>\n",
              "      <td>0.07</td>\n",
              "    </tr>\n",
              "    <tr>\n",
              "      <th>Nova Iguaçu</th>\n",
              "      <td>0.06</td>\n",
              "    </tr>\n",
              "    <tr>\n",
              "      <th>Belford Roxo</th>\n",
              "      <td>0.05</td>\n",
              "    </tr>\n",
              "  </tbody>\n",
              "</table>\n",
              "</div>"
            ],
            "text/plain": [
              "                 letalidade_violenta\n",
              "municipio                           \n",
              "Rio de Janeiro                  0.32\n",
              "São Gonçalo                     0.08\n",
              "Duque de Caxias                 0.07\n",
              "Nova Iguaçu                     0.06\n",
              "Belford Roxo                    0.05"
            ]
          },
          "metadata": {
            "tags": []
          },
          "execution_count": 35
        }
      ]
    },
    {
      "cell_type": "markdown",
      "metadata": {
        "id": "UecFEpYEpkE0"
      },
      "source": [
        "Como podemos ver acima, o Rio de Janeiro é o líder isolado em casos de letalidade no Estado, **responsável por 32% por casos**."
      ]
    },
    {
      "cell_type": "markdown",
      "metadata": {
        "id": "-s1t1D9apx0O"
      },
      "source": [
        "####Mês a mês\r\n",
        "\r\n",
        "Como foi o comportamento desses crimes mês a mês em todo estado? Veremos no gráfico abaixo.\r\n",
        "\r\n"
      ]
    },
    {
      "cell_type": "code",
      "metadata": {
        "colab": {
          "base_uri": "https://localhost:8080/",
          "height": 452
        },
        "id": "lCnav6rGqbwM",
        "outputId": "f55feb95-573c-49ed-866b-8d0b0916da6f"
      },
      "source": [
        "\r\n",
        "df_clean[['regiao','mes','letalidade_violenta']].groupby('mes').sum()\r\n",
        "letalit=df_clean[['regiao','mes','letalidade_violenta']].groupby('mes').sum()\r\n",
        "letalit.sort_values(by='letalidade_violenta',ascending=False)"
      ],
      "execution_count": 36,
      "outputs": [
        {
          "output_type": "execute_result",
          "data": {
            "text/html": [
              "<div>\n",
              "<style scoped>\n",
              "    .dataframe tbody tr th:only-of-type {\n",
              "        vertical-align: middle;\n",
              "    }\n",
              "\n",
              "    .dataframe tbody tr th {\n",
              "        vertical-align: top;\n",
              "    }\n",
              "\n",
              "    .dataframe thead th {\n",
              "        text-align: right;\n",
              "    }\n",
              "</style>\n",
              "<table border=\"1\" class=\"dataframe\">\n",
              "  <thead>\n",
              "    <tr style=\"text-align: right;\">\n",
              "      <th></th>\n",
              "      <th>letalidade_violenta</th>\n",
              "    </tr>\n",
              "    <tr>\n",
              "      <th>mes</th>\n",
              "      <th></th>\n",
              "    </tr>\n",
              "  </thead>\n",
              "  <tbody>\n",
              "    <tr>\n",
              "      <th>1</th>\n",
              "      <td>562</td>\n",
              "    </tr>\n",
              "    <tr>\n",
              "      <th>5</th>\n",
              "      <td>534</td>\n",
              "    </tr>\n",
              "    <tr>\n",
              "      <th>7</th>\n",
              "      <td>526</td>\n",
              "    </tr>\n",
              "    <tr>\n",
              "      <th>8</th>\n",
              "      <td>500</td>\n",
              "    </tr>\n",
              "    <tr>\n",
              "      <th>4</th>\n",
              "      <td>496</td>\n",
              "    </tr>\n",
              "    <tr>\n",
              "      <th>6</th>\n",
              "      <td>496</td>\n",
              "    </tr>\n",
              "    <tr>\n",
              "      <th>3</th>\n",
              "      <td>492</td>\n",
              "    </tr>\n",
              "    <tr>\n",
              "      <th>2</th>\n",
              "      <td>481</td>\n",
              "    </tr>\n",
              "    <tr>\n",
              "      <th>9</th>\n",
              "      <td>477</td>\n",
              "    </tr>\n",
              "    <tr>\n",
              "      <th>10</th>\n",
              "      <td>475</td>\n",
              "    </tr>\n",
              "    <tr>\n",
              "      <th>11</th>\n",
              "      <td>474</td>\n",
              "    </tr>\n",
              "    <tr>\n",
              "      <th>12</th>\n",
              "      <td>467</td>\n",
              "    </tr>\n",
              "  </tbody>\n",
              "</table>\n",
              "</div>"
            ],
            "text/plain": [
              "     letalidade_violenta\n",
              "mes                     \n",
              "1                    562\n",
              "5                    534\n",
              "7                    526\n",
              "8                    500\n",
              "4                    496\n",
              "6                    496\n",
              "3                    492\n",
              "2                    481\n",
              "9                    477\n",
              "10                   475\n",
              "11                   474\n",
              "12                   467"
            ]
          },
          "metadata": {
            "tags": []
          },
          "execution_count": 36
        }
      ]
    },
    {
      "cell_type": "code",
      "metadata": {
        "colab": {
          "base_uri": "https://localhost:8080/",
          "height": 312
        },
        "id": "Qze6y_iwr6FD",
        "outputId": "9a14e9aa-23d4-42d5-c079-af452bbf7f6f"
      },
      "source": [
        "plt.plot(letalit.index,letalit.letalidade_violenta,'go-')\r\n",
        "plt.xlabel('meses')\r\n",
        "plt.ylabel('números')\r\n",
        "plt.title('números de letalidade em todo estado');"
      ],
      "execution_count": 37,
      "outputs": [
        {
          "output_type": "execute_result",
          "data": {
            "text/plain": [
              "Text(0.5, 1.0, 'numeros de letalidade em todo estado')"
            ]
          },
          "metadata": {
            "tags": []
          },
          "execution_count": 37
        },
        {
          "output_type": "display_data",
          "data": {
            "image/png": "[encoded data removed]",
            "text/plain": [
              "<Figure size 432x288 with 1 Axes>"
            ]
          },
          "metadata": {
            "tags": [],
            "needs_background": "light"
          }
        }
      ]
    },
    {
      "cell_type": "markdown",
      "metadata": {
        "id": "FCr1oNUCwB-6"
      },
      "source": [
        "Analisando o gráfico é possível visualizar que:\r\n",
        "*   O mês 1 (Janeiro) foi disparado o mês com maior número de casos\r\n",
        "*   Enorme queda do mês 1(Janeiro) para o mês 2(Fevereiro)\r\n",
        "*   A Partir do mês 7(Julho), qual foi o terceiro mês com mais registros, os números entraram em queda gradual, até o mês 12 (Dezembro), mês com menor número casos de todo o ano.\r\n",
        "*  O gráfico de letalidade não acompanha o comportamento do gráfico de registro totais, principalmente em relação ao pico de crescimento\r\n",
        "\r\n"
      ]
    },
    {
      "cell_type": "markdown",
      "metadata": {
        "id": "9qBUtM89yUyo"
      },
      "source": [
        "Agora veremos os números mês a mês dos 5 municipios com maiores casos de letalidade, e são eles:"
      ]
    },
    {
      "cell_type": "code",
      "metadata": {
        "colab": {
          "base_uri": "https://localhost:8080/",
          "height": 235
        },
        "id": "RE6dYqRr2OPd",
        "outputId": "032fb114-cd0f-40c6-a1b9-7cde45d7ede9"
      },
      "source": [
        "mun_let=df_clean[['municipio','letalidade_violenta']].groupby('municipio').sum()\r\n",
        "mun_let=mun_let.sort_values(by='letalidade_violenta',ascending=False).head(5)\r\n",
        "mun_let"
      ],
      "execution_count": 38,
      "outputs": [
        {
          "output_type": "execute_result",
          "data": {
            "text/html": [
              "<div>\n",
              "<style scoped>\n",
              "    .dataframe tbody tr th:only-of-type {\n",
              "        vertical-align: middle;\n",
              "    }\n",
              "\n",
              "    .dataframe tbody tr th {\n",
              "        vertical-align: top;\n",
              "    }\n",
              "\n",
              "    .dataframe thead th {\n",
              "        text-align: right;\n",
              "    }\n",
              "</style>\n",
              "<table border=\"1\" class=\"dataframe\">\n",
              "  <thead>\n",
              "    <tr style=\"text-align: right;\">\n",
              "      <th></th>\n",
              "      <th>letalidade_violenta</th>\n",
              "    </tr>\n",
              "    <tr>\n",
              "      <th>municipio</th>\n",
              "      <th></th>\n",
              "    </tr>\n",
              "  </thead>\n",
              "  <tbody>\n",
              "    <tr>\n",
              "      <th>Rio de Janeiro</th>\n",
              "      <td>1913</td>\n",
              "    </tr>\n",
              "    <tr>\n",
              "      <th>São Gonçalo</th>\n",
              "      <td>498</td>\n",
              "    </tr>\n",
              "    <tr>\n",
              "      <th>Duque de Caxias</th>\n",
              "      <td>407</td>\n",
              "    </tr>\n",
              "    <tr>\n",
              "      <th>Nova Iguaçu</th>\n",
              "      <td>372</td>\n",
              "    </tr>\n",
              "    <tr>\n",
              "      <th>Belford Roxo</th>\n",
              "      <td>327</td>\n",
              "    </tr>\n",
              "  </tbody>\n",
              "</table>\n",
              "</div>"
            ],
            "text/plain": [
              "                 letalidade_violenta\n",
              "municipio                           \n",
              "Rio de Janeiro                  1913\n",
              "São Gonçalo                      498\n",
              "Duque de Caxias                  407\n",
              "Nova Iguaçu                      372\n",
              "Belford Roxo                     327"
            ]
          },
          "metadata": {
            "tags": []
          },
          "execution_count": 38
        }
      ]
    },
    {
      "cell_type": "code",
      "metadata": {
        "id": "dW2RGnM14Wzs"
      },
      "source": [
        "#criando um dataset com os municipios acima\r\n",
        "ml=df_clean.query(\"municipio == ['Rio de Janeiro', 'São Gonçalo', 'Duque de Caxias', 'Nova Iguaçu','Belford Roxo'] \")\r\n",
        "ml=ml[['municipio','mes','letalidade_violenta']].sort_values(by='letalidade_violenta',ascending=False)"
      ],
      "execution_count": 40,
      "outputs": []
    },
    {
      "cell_type": "code",
      "metadata": {
        "colab": {
          "base_uri": "https://localhost:8080/",
          "height": 606
        },
        "id": "QVqt5Yod6qL3",
        "outputId": "dfccbc2e-089c-4d81-b22d-4df1e2de5b93"
      },
      "source": [
        "#Gráfico com os municipios do novo dataset\r\n",
        "plt.subplots(figsize=(12,10))\r\n",
        "plt.grid()\r\n",
        "sns.lineplot(data=ml,x='mes',y='letalidade_violenta',hue='municipio',style='municipio',markers=True,dashes=False);"
      ],
      "execution_count": 41,
      "outputs": [
        {
          "output_type": "display_data",
          "data": {
            "image/png": "[encoded data removed]",
            "text/plain": [
              "<Figure size 864x720 with 1 Axes>"
            ]
          },
          "metadata": {
            "tags": [],
            "needs_background": "light"
          }
        }
      ]
    },
    {
      "cell_type": "markdown",
      "metadata": {
        "id": "A5COHNCfFTcb"
      },
      "source": [
        "Analisando o gráfico é possivel visualiar que:\r\n",
        ".   Os números do Rio de Janeiro estão muito acima dos \r\n",
        "\r\n",
        "*   Os números do Rio de Janeiro estão muito acima dos outros municípios.\r\n",
        "*   Exceto Rio de Janeiro, os municípios restantes concentram seus números na faixa de 25-50 registros mensais.\r\n",
        "*   Exceto Rio de Janeiro, todos municípios estiveram por pelo menos um mês como segundo colocado como maior número de registros.\r\n"
      ]
    },
    {
      "cell_type": "markdown",
      "metadata": {
        "id": "vfgdrpscIBO3"
      },
      "source": [
        "###Crimes mais registrados\r\n"
      ]
    },
    {
      "cell_type": "markdown",
      "metadata": {
        "id": "HBFwLdIsiUDh"
      },
      "source": [
        "Após um estudo sobre os municípios e regiões, faremos uma análise dos crimes que estão contidos no *dataset*. \r\n",
        "\r\n",
        "Para poder analisarmos de forma individual cada, será necessario a remoção de colunas como: `letalidade_violenta`, `total_roubos`, `total_furtos`, `registro_ocorrencias`, colunas que são preenchidas com soma de outras."
      ]
    },
    {
      "cell_type": "code",
      "metadata": {
        "id": "XiMh2w5plAxS"
      },
      "source": [
        "#criando um novo dataset\r\n",
        "df_crimes = df_clean.copy()\r\n",
        "#excluindo os crimes 'totais' do novo dataset\r\n",
        "df_crimes.drop(columns=['letalidade_violenta','total_roubos','total_furtos','registro_ocorrencias','roubo_rua','outros_furtos'],axis=1,inplace=True)"
      ],
      "execution_count": 42,
      "outputs": []
    },
    {
      "cell_type": "code",
      "metadata": {
        "colab": {
          "base_uri": "https://localhost:8080/",
          "height": 258
        },
        "id": "4Ro778NrmWH8",
        "outputId": "165c09d3-cd26-4b12-9fdc-3c3c96d2921c"
      },
      "source": [
        "#verificando após exclusões\r\n",
        "df_crimes.head()"
      ],
      "execution_count": 43,
      "outputs": [
        {
          "output_type": "execute_result",
          "data": {
            "text/html": [
              "<div>\n",
              "<style scoped>\n",
              "    .dataframe tbody tr th:only-of-type {\n",
              "        vertical-align: middle;\n",
              "    }\n",
              "\n",
              "    .dataframe tbody tr th {\n",
              "        vertical-align: top;\n",
              "    }\n",
              "\n",
              "    .dataframe thead th {\n",
              "        text-align: right;\n",
              "    }\n",
              "</style>\n",
              "<table border=\"1\" class=\"dataframe\">\n",
              "  <thead>\n",
              "    <tr style=\"text-align: right;\">\n",
              "      <th></th>\n",
              "      <th>municipio</th>\n",
              "      <th>mes</th>\n",
              "      <th>regiao</th>\n",
              "      <th>hom_doloso</th>\n",
              "      <th>lesao_corp_morte</th>\n",
              "      <th>latrocinio</th>\n",
              "      <th>cvli</th>\n",
              "      <th>hom_por_interv_policial</th>\n",
              "      <th>tentat_hom</th>\n",
              "      <th>lesao_corp_dolosa</th>\n",
              "      <th>estupro</th>\n",
              "      <th>hom_culposo</th>\n",
              "      <th>lesao_corp_culposa</th>\n",
              "      <th>roubo_transeunte</th>\n",
              "      <th>roubo_celular</th>\n",
              "      <th>roubo_em_coletivo</th>\n",
              "      <th>roubo_veiculo</th>\n",
              "      <th>roubo_carga</th>\n",
              "      <th>roubo_comercio</th>\n",
              "      <th>roubo_residencia</th>\n",
              "      <th>roubo_banco</th>\n",
              "      <th>roubo_cx_eletronico</th>\n",
              "      <th>roubo_conducao_saque</th>\n",
              "      <th>roubo_apos_saque</th>\n",
              "      <th>roubo_bicicleta</th>\n",
              "      <th>outros_roubos</th>\n",
              "      <th>furto_veiculos</th>\n",
              "      <th>furto_transeunte</th>\n",
              "      <th>furto_coletivo</th>\n",
              "      <th>furto_celular</th>\n",
              "      <th>furto_bicicleta</th>\n",
              "      <th>sequestro</th>\n",
              "      <th>extorsao</th>\n",
              "      <th>sequestro_relampago</th>\n",
              "      <th>estelionato</th>\n",
              "      <th>apreensao_drogas</th>\n",
              "      <th>posse_drogas</th>\n",
              "      <th>trafico_drogas</th>\n",
              "      <th>apreensao_drogas_sem_autor</th>\n",
              "      <th>recuperacao_veiculos</th>\n",
              "      <th>apf</th>\n",
              "      <th>aaapai</th>\n",
              "      <th>cmp</th>\n",
              "      <th>cmba</th>\n",
              "      <th>ameaca</th>\n",
              "      <th>pessoas_desaparecidas</th>\n",
              "      <th>encontro_cadaver</th>\n",
              "      <th>encontro_ossada</th>\n",
              "      <th>pol_militares_mortos_serv</th>\n",
              "      <th>pol_civis_mortos_serv</th>\n",
              "    </tr>\n",
              "  </thead>\n",
              "  <tbody>\n",
              "    <tr>\n",
              "      <th>0</th>\n",
              "      <td>Angra dos Reis</td>\n",
              "      <td>1</td>\n",
              "      <td>Interior</td>\n",
              "      <td>8</td>\n",
              "      <td>0</td>\n",
              "      <td>0</td>\n",
              "      <td>8</td>\n",
              "      <td>4</td>\n",
              "      <td>14</td>\n",
              "      <td>74</td>\n",
              "      <td>6</td>\n",
              "      <td>9</td>\n",
              "      <td>29</td>\n",
              "      <td>18</td>\n",
              "      <td>9</td>\n",
              "      <td>1</td>\n",
              "      <td>8</td>\n",
              "      <td>3</td>\n",
              "      <td>3</td>\n",
              "      <td>0</td>\n",
              "      <td>0</td>\n",
              "      <td>0</td>\n",
              "      <td>0</td>\n",
              "      <td>0</td>\n",
              "      <td>0</td>\n",
              "      <td>6</td>\n",
              "      <td>7</td>\n",
              "      <td>8</td>\n",
              "      <td>2</td>\n",
              "      <td>7</td>\n",
              "      <td>1</td>\n",
              "      <td>0</td>\n",
              "      <td>1</td>\n",
              "      <td>0</td>\n",
              "      <td>21</td>\n",
              "      <td>21</td>\n",
              "      <td>6</td>\n",
              "      <td>14</td>\n",
              "      <td>1</td>\n",
              "      <td>11</td>\n",
              "      <td>42</td>\n",
              "      <td>13</td>\n",
              "      <td>5</td>\n",
              "      <td>1</td>\n",
              "      <td>52</td>\n",
              "      <td>3</td>\n",
              "      <td>0</td>\n",
              "      <td>0</td>\n",
              "      <td>0</td>\n",
              "      <td>0</td>\n",
              "    </tr>\n",
              "    <tr>\n",
              "      <th>1</th>\n",
              "      <td>Aperibé</td>\n",
              "      <td>1</td>\n",
              "      <td>Interior</td>\n",
              "      <td>0</td>\n",
              "      <td>0</td>\n",
              "      <td>0</td>\n",
              "      <td>0</td>\n",
              "      <td>0</td>\n",
              "      <td>0</td>\n",
              "      <td>5</td>\n",
              "      <td>0</td>\n",
              "      <td>0</td>\n",
              "      <td>0</td>\n",
              "      <td>0</td>\n",
              "      <td>0</td>\n",
              "      <td>0</td>\n",
              "      <td>0</td>\n",
              "      <td>0</td>\n",
              "      <td>0</td>\n",
              "      <td>0</td>\n",
              "      <td>0</td>\n",
              "      <td>0</td>\n",
              "      <td>0</td>\n",
              "      <td>0</td>\n",
              "      <td>0</td>\n",
              "      <td>0</td>\n",
              "      <td>1</td>\n",
              "      <td>0</td>\n",
              "      <td>0</td>\n",
              "      <td>0</td>\n",
              "      <td>0</td>\n",
              "      <td>0</td>\n",
              "      <td>0</td>\n",
              "      <td>0</td>\n",
              "      <td>2</td>\n",
              "      <td>0</td>\n",
              "      <td>0</td>\n",
              "      <td>0</td>\n",
              "      <td>0</td>\n",
              "      <td>0</td>\n",
              "      <td>3</td>\n",
              "      <td>0</td>\n",
              "      <td>0</td>\n",
              "      <td>0</td>\n",
              "      <td>6</td>\n",
              "      <td>0</td>\n",
              "      <td>0</td>\n",
              "      <td>0</td>\n",
              "      <td>0</td>\n",
              "      <td>0</td>\n",
              "    </tr>\n",
              "    <tr>\n",
              "      <th>2</th>\n",
              "      <td>Araruama</td>\n",
              "      <td>1</td>\n",
              "      <td>Interior</td>\n",
              "      <td>3</td>\n",
              "      <td>0</td>\n",
              "      <td>0</td>\n",
              "      <td>3</td>\n",
              "      <td>2</td>\n",
              "      <td>2</td>\n",
              "      <td>54</td>\n",
              "      <td>5</td>\n",
              "      <td>2</td>\n",
              "      <td>34</td>\n",
              "      <td>21</td>\n",
              "      <td>16</td>\n",
              "      <td>1</td>\n",
              "      <td>1</td>\n",
              "      <td>0</td>\n",
              "      <td>4</td>\n",
              "      <td>2</td>\n",
              "      <td>0</td>\n",
              "      <td>0</td>\n",
              "      <td>0</td>\n",
              "      <td>0</td>\n",
              "      <td>0</td>\n",
              "      <td>10</td>\n",
              "      <td>11</td>\n",
              "      <td>5</td>\n",
              "      <td>0</td>\n",
              "      <td>14</td>\n",
              "      <td>2</td>\n",
              "      <td>0</td>\n",
              "      <td>0</td>\n",
              "      <td>0</td>\n",
              "      <td>15</td>\n",
              "      <td>51</td>\n",
              "      <td>20</td>\n",
              "      <td>28</td>\n",
              "      <td>4</td>\n",
              "      <td>9</td>\n",
              "      <td>34</td>\n",
              "      <td>16</td>\n",
              "      <td>10</td>\n",
              "      <td>0</td>\n",
              "      <td>72</td>\n",
              "      <td>5</td>\n",
              "      <td>0</td>\n",
              "      <td>0</td>\n",
              "      <td>0</td>\n",
              "      <td>0</td>\n",
              "    </tr>\n",
              "    <tr>\n",
              "      <th>3</th>\n",
              "      <td>Areal</td>\n",
              "      <td>1</td>\n",
              "      <td>Interior</td>\n",
              "      <td>1</td>\n",
              "      <td>0</td>\n",
              "      <td>0</td>\n",
              "      <td>1</td>\n",
              "      <td>0</td>\n",
              "      <td>0</td>\n",
              "      <td>2</td>\n",
              "      <td>0</td>\n",
              "      <td>0</td>\n",
              "      <td>1</td>\n",
              "      <td>0</td>\n",
              "      <td>0</td>\n",
              "      <td>0</td>\n",
              "      <td>0</td>\n",
              "      <td>0</td>\n",
              "      <td>0</td>\n",
              "      <td>0</td>\n",
              "      <td>0</td>\n",
              "      <td>0</td>\n",
              "      <td>0</td>\n",
              "      <td>0</td>\n",
              "      <td>0</td>\n",
              "      <td>0</td>\n",
              "      <td>1</td>\n",
              "      <td>0</td>\n",
              "      <td>0</td>\n",
              "      <td>0</td>\n",
              "      <td>1</td>\n",
              "      <td>0</td>\n",
              "      <td>0</td>\n",
              "      <td>0</td>\n",
              "      <td>0</td>\n",
              "      <td>4</td>\n",
              "      <td>1</td>\n",
              "      <td>3</td>\n",
              "      <td>0</td>\n",
              "      <td>0</td>\n",
              "      <td>2</td>\n",
              "      <td>0</td>\n",
              "      <td>0</td>\n",
              "      <td>0</td>\n",
              "      <td>1</td>\n",
              "      <td>0</td>\n",
              "      <td>0</td>\n",
              "      <td>0</td>\n",
              "      <td>0</td>\n",
              "      <td>0</td>\n",
              "    </tr>\n",
              "    <tr>\n",
              "      <th>4</th>\n",
              "      <td>Armação dos Búzios</td>\n",
              "      <td>1</td>\n",
              "      <td>Interior</td>\n",
              "      <td>0</td>\n",
              "      <td>0</td>\n",
              "      <td>0</td>\n",
              "      <td>0</td>\n",
              "      <td>0</td>\n",
              "      <td>5</td>\n",
              "      <td>36</td>\n",
              "      <td>2</td>\n",
              "      <td>0</td>\n",
              "      <td>6</td>\n",
              "      <td>10</td>\n",
              "      <td>6</td>\n",
              "      <td>0</td>\n",
              "      <td>0</td>\n",
              "      <td>0</td>\n",
              "      <td>0</td>\n",
              "      <td>1</td>\n",
              "      <td>0</td>\n",
              "      <td>0</td>\n",
              "      <td>0</td>\n",
              "      <td>0</td>\n",
              "      <td>0</td>\n",
              "      <td>0</td>\n",
              "      <td>5</td>\n",
              "      <td>10</td>\n",
              "      <td>2</td>\n",
              "      <td>11</td>\n",
              "      <td>3</td>\n",
              "      <td>0</td>\n",
              "      <td>0</td>\n",
              "      <td>0</td>\n",
              "      <td>8</td>\n",
              "      <td>9</td>\n",
              "      <td>2</td>\n",
              "      <td>7</td>\n",
              "      <td>0</td>\n",
              "      <td>0</td>\n",
              "      <td>11</td>\n",
              "      <td>2</td>\n",
              "      <td>10</td>\n",
              "      <td>0</td>\n",
              "      <td>17</td>\n",
              "      <td>3</td>\n",
              "      <td>0</td>\n",
              "      <td>0</td>\n",
              "      <td>0</td>\n",
              "      <td>0</td>\n",
              "    </tr>\n",
              "  </tbody>\n",
              "</table>\n",
              "</div>"
            ],
            "text/plain": [
              "            municipio  mes  ... pol_militares_mortos_serv  pol_civis_mortos_serv\n",
              "0      Angra dos Reis    1  ...                         0                      0\n",
              "1             Aperibé    1  ...                         0                      0\n",
              "2            Araruama    1  ...                         0                      0\n",
              "3               Areal    1  ...                         0                      0\n",
              "4  Armação dos Búzios    1  ...                         0                      0\n",
              "\n",
              "[5 rows x 50 columns]"
            ]
          },
          "metadata": {
            "tags": []
          },
          "execution_count": 43
        }
      ]
    },
    {
      "cell_type": "code",
      "metadata": {
        "colab": {
          "base_uri": "https://localhost:8080/"
        },
        "id": "puoB47Hzms6F",
        "outputId": "8a1a14ed-f840-428a-d274-0d9d81d53f81"
      },
      "source": [
        "#Quantidade de cada crime\r\n",
        "df_crimes.iloc[0:,3:].sum().sort_values(ascending=False) "
      ],
      "execution_count": 44,
      "outputs": [
        {
          "output_type": "execute_result",
          "data": {
            "text/plain": [
              "roubo_transeunte              78329\n",
              "lesao_corp_dolosa             63655\n",
              "ameaca                        60308\n",
              "estelionato                   41253\n",
              "roubo_veiculo                 39749\n",
              "apf                           35219\n",
              "lesao_corp_culposa            27628\n",
              "recuperacao_veiculos          26863\n",
              "roubo_celular                 26788\n",
              "outros_roubos                 24065\n",
              "apreensao_drogas              22749\n",
              "furto_transeunte              20253\n",
              "cmp                           19461\n",
              "furto_celular                 18343\n",
              "furto_veiculos                15595\n",
              "roubo_em_coletivo             15354\n",
              "trafico_drogas                12092\n",
              "posse_drogas                   9004\n",
              "furto_coletivo                 7924\n",
              "roubo_carga                    7456\n",
              "aaapai                         6056\n",
              "estupro                        5450\n",
              "tentat_hom                     5409\n",
              "roubo_comercio                 5005\n",
              "pessoas_desaparecidas          4768\n",
              "cvli                           4166\n",
              "hom_doloso                     4004\n",
              "cmba                           3112\n",
              "furto_bicicleta                2470\n",
              "apreensao_drogas_sem_autor     2086\n",
              "hom_culposo                    1979\n",
              "hom_por_interv_policial        1814\n",
              "extorsao                       1661\n",
              "roubo_residencia               1130\n",
              "roubo_apos_saque               1071\n",
              "encontro_cadaver                298\n",
              "roubo_bicicleta                 189\n",
              "roubo_conducao_saque            121\n",
              "latrocinio                      117\n",
              "sequestro_relampago             101\n",
              "encontro_ossada                  51\n",
              "lesao_corp_morte                 45\n",
              "roubo_cx_eletronico              37\n",
              "pol_militares_mortos_serv        22\n",
              "roubo_banco                      20\n",
              "sequestro                         2\n",
              "pol_civis_mortos_serv             0\n",
              "dtype: int64"
            ]
          },
          "metadata": {
            "tags": []
          },
          "execution_count": 44
        }
      ]
    },
    {
      "cell_type": "code",
      "metadata": {
        "colab": {
          "base_uri": "https://localhost:8080/"
        },
        "id": "3IHS6lb1qxZg",
        "outputId": "75b6ef8d-db5e-48b0-dab4-908b5443aa8b"
      },
      "source": [
        "#Porcetagem de cada crime\r\n",
        "round(df_crimes.iloc[0:,3:].sum().sort_values(ascending=False) / df_clean['registro_ocorrencias'].sum(),4)"
      ],
      "execution_count": 45,
      "outputs": [
        {
          "output_type": "execute_result",
          "data": {
            "text/plain": [
              "roubo_transeunte              0.1002\n",
              "lesao_corp_dolosa             0.0815\n",
              "ameaca                        0.0772\n",
              "estelionato                   0.0528\n",
              "roubo_veiculo                 0.0509\n",
              "apf                           0.0451\n",
              "lesao_corp_culposa            0.0354\n",
              "recuperacao_veiculos          0.0344\n",
              "roubo_celular                 0.0343\n",
              "outros_roubos                 0.0308\n",
              "apreensao_drogas              0.0291\n",
              "furto_transeunte              0.0259\n",
              "cmp                           0.0249\n",
              "furto_celular                 0.0235\n",
              "furto_veiculos                0.0200\n",
              "roubo_em_coletivo             0.0196\n",
              "trafico_drogas                0.0155\n",
              "posse_drogas                  0.0115\n",
              "furto_coletivo                0.0101\n",
              "roubo_carga                   0.0095\n",
              "aaapai                        0.0077\n",
              "estupro                       0.0070\n",
              "tentat_hom                    0.0069\n",
              "roubo_comercio                0.0064\n",
              "pessoas_desaparecidas         0.0061\n",
              "cvli                          0.0053\n",
              "hom_doloso                    0.0051\n",
              "cmba                          0.0040\n",
              "furto_bicicleta               0.0032\n",
              "apreensao_drogas_sem_autor    0.0027\n",
              "hom_culposo                   0.0025\n",
              "hom_por_interv_policial       0.0023\n",
              "extorsao                      0.0021\n",
              "roubo_residencia              0.0014\n",
              "roubo_apos_saque              0.0014\n",
              "encontro_cadaver              0.0004\n",
              "roubo_bicicleta               0.0002\n",
              "roubo_conducao_saque          0.0002\n",
              "latrocinio                    0.0001\n",
              "sequestro_relampago           0.0001\n",
              "encontro_ossada               0.0001\n",
              "lesao_corp_morte              0.0001\n",
              "roubo_cx_eletronico           0.0000\n",
              "pol_militares_mortos_serv     0.0000\n",
              "roubo_banco                   0.0000\n",
              "sequestro                     0.0000\n",
              "pol_civis_mortos_serv         0.0000\n",
              "dtype: float64"
            ]
          },
          "metadata": {
            "tags": []
          },
          "execution_count": 45
        }
      ]
    },
    {
      "cell_type": "markdown",
      "metadata": {
        "id": "nfeecs0yq94I"
      },
      "source": [
        "Como podemos ver acima, o crime de `roubo_transeunte` é o mais registrado no estado do Rio de Janeiro em 2019, representando 10% do *dataset*. Em seguida vemos lesão corporal dolosa e ameaça."
      ]
    },
    {
      "cell_type": "markdown",
      "metadata": {
        "id": "YQ1a2LwAsCdT"
      },
      "source": [
        "####Roubo Transeunte\r\n",
        "\r\n",
        "o Crime mais registrado no *dataset* não é um termo popular, por mais que seja o de maior número, mas afinal, o que é um Roubo Transeunte?\r\n",
        "\r\n",
        "<center><img src='https://geekonomics.com.br/wp-content/uploads/2016/10/roubo-celular-capa.jpg' width='60%' </img></center>"
      ]
    },
    {
      "cell_type": "markdown",
      "metadata": {
        "id": "7G_dLU7Qtafz"
      },
      "source": [
        "Crime corriqueiro, presente em ruas, avenidas e vias movimentadas, o roubo transeunte são roubos cometidos contra pessoas que se deslocam a pé."
      ]
    },
    {
      "cell_type": "markdown",
      "metadata": {
        "id": "3Q_OBYdhuVOl"
      },
      "source": [
        "#####Municípios com maiores números\r\n",
        "Agora que sabemos o que é um roubo transeunte, veremos em quais municípios eles mais estão presentes.\r\n",
        "\r\n"
      ]
    },
    {
      "cell_type": "code",
      "metadata": {
        "colab": {
          "base_uri": "https://localhost:8080/",
          "height": 235
        },
        "id": "eRlAQuHyunqR",
        "outputId": "4fb1164a-a0e8-4360-c191-59bbe4c2fb71"
      },
      "source": [
        "#filtrando as linhas municipios,e roubo_transeunte\r\n",
        "df_clean[['municipio','roubo_transeunte']]\r\n",
        "#groupby em municipio para juntar valores de todos meses + sum + head\r\n",
        "(df_clean[['municipio','roubo_transeunte']].groupby('municipio').sum()).sort_values('roubo_transeunte',ascending=False).head(5)"
      ],
      "execution_count": 46,
      "outputs": [
        {
          "output_type": "execute_result",
          "data": {
            "text/html": [
              "<div>\n",
              "<style scoped>\n",
              "    .dataframe tbody tr th:only-of-type {\n",
              "        vertical-align: middle;\n",
              "    }\n",
              "\n",
              "    .dataframe tbody tr th {\n",
              "        vertical-align: top;\n",
              "    }\n",
              "\n",
              "    .dataframe thead th {\n",
              "        text-align: right;\n",
              "    }\n",
              "</style>\n",
              "<table border=\"1\" class=\"dataframe\">\n",
              "  <thead>\n",
              "    <tr style=\"text-align: right;\">\n",
              "      <th></th>\n",
              "      <th>roubo_transeunte</th>\n",
              "    </tr>\n",
              "    <tr>\n",
              "      <th>municipio</th>\n",
              "      <th></th>\n",
              "    </tr>\n",
              "  </thead>\n",
              "  <tbody>\n",
              "    <tr>\n",
              "      <th>Rio de Janeiro</th>\n",
              "      <td>40456</td>\n",
              "    </tr>\n",
              "    <tr>\n",
              "      <th>São Gonçalo</th>\n",
              "      <td>8145</td>\n",
              "    </tr>\n",
              "    <tr>\n",
              "      <th>Duque de Caxias</th>\n",
              "      <td>6436</td>\n",
              "    </tr>\n",
              "    <tr>\n",
              "      <th>Nova Iguaçu</th>\n",
              "      <td>4291</td>\n",
              "    </tr>\n",
              "    <tr>\n",
              "      <th>São João de Meriti</th>\n",
              "      <td>3001</td>\n",
              "    </tr>\n",
              "  </tbody>\n",
              "</table>\n",
              "</div>"
            ],
            "text/plain": [
              "                    roubo_transeunte\n",
              "municipio                           \n",
              "Rio de Janeiro                 40456\n",
              "São Gonçalo                     8145\n",
              "Duque de Caxias                 6436\n",
              "Nova Iguaçu                     4291\n",
              "São João de Meriti              3001"
            ]
          },
          "metadata": {
            "tags": []
          },
          "execution_count": 46
        }
      ]
    },
    {
      "cell_type": "markdown",
      "metadata": {
        "id": "E2Fj2Glev4cQ"
      },
      "source": [
        "Como visto acima, Rio de Janeiro é disparado o município com mais roubo transeuntes no estado. É interessante observar também que:\r\n",
        "\r\n",
        "*    O ranking de roubo transeunte tem o mesmos quatro primeiros colocados do que o ranking de letalidade violenta.\r\n",
        "*   Aparição de São João de Meriti, se pondo no lugar de Belford Roxo que estava no ranking de letalidade violenta.\r\n",
        "*   A capital Rio de Janeiro mais uma vez sendo a primeira colocada isoladamente.\r\n",
        "\r\n",
        "\r\n",
        "\r\n",
        "\r\n",
        "\r\n"
      ]
    },
    {
      "cell_type": "markdown",
      "metadata": {
        "id": "uyzZQxsKxfhm"
      },
      "source": [
        "#####Mês a Mês\r\n",
        "Como foram distribuidos esses números durante o ano? Veremos agora no gráfico mês a mês de roubo transeunte de todo o Estado."
      ]
    },
    {
      "cell_type": "code",
      "metadata": {
        "colab": {
          "base_uri": "https://localhost:8080/",
          "height": 452
        },
        "id": "F9ZTDcVnxue_",
        "outputId": "5c43db70-12de-4a01-8683-7b2bbe5878be"
      },
      "source": [
        "df_clean[['mes','roubo_transeunte']].groupby('mes').sum()\r\n",
        "rt=df_clean[['mes','roubo_transeunte']].groupby('mes').sum()\r\n",
        "\r\n",
        "rt"
      ],
      "execution_count": 47,
      "outputs": [
        {
          "output_type": "execute_result",
          "data": {
            "text/html": [
              "<div>\n",
              "<style scoped>\n",
              "    .dataframe tbody tr th:only-of-type {\n",
              "        vertical-align: middle;\n",
              "    }\n",
              "\n",
              "    .dataframe tbody tr th {\n",
              "        vertical-align: top;\n",
              "    }\n",
              "\n",
              "    .dataframe thead th {\n",
              "        text-align: right;\n",
              "    }\n",
              "</style>\n",
              "<table border=\"1\" class=\"dataframe\">\n",
              "  <thead>\n",
              "    <tr style=\"text-align: right;\">\n",
              "      <th></th>\n",
              "      <th>roubo_transeunte</th>\n",
              "    </tr>\n",
              "    <tr>\n",
              "      <th>mes</th>\n",
              "      <th></th>\n",
              "    </tr>\n",
              "  </thead>\n",
              "  <tbody>\n",
              "    <tr>\n",
              "      <th>1</th>\n",
              "      <td>7454</td>\n",
              "    </tr>\n",
              "    <tr>\n",
              "      <th>2</th>\n",
              "      <td>7000</td>\n",
              "    </tr>\n",
              "    <tr>\n",
              "      <th>3</th>\n",
              "      <td>7734</td>\n",
              "    </tr>\n",
              "    <tr>\n",
              "      <th>4</th>\n",
              "      <td>7031</td>\n",
              "    </tr>\n",
              "    <tr>\n",
              "      <th>5</th>\n",
              "      <td>7332</td>\n",
              "    </tr>\n",
              "    <tr>\n",
              "      <th>6</th>\n",
              "      <td>6077</td>\n",
              "    </tr>\n",
              "    <tr>\n",
              "      <th>7</th>\n",
              "      <td>6636</td>\n",
              "    </tr>\n",
              "    <tr>\n",
              "      <th>8</th>\n",
              "      <td>6452</td>\n",
              "    </tr>\n",
              "    <tr>\n",
              "      <th>9</th>\n",
              "      <td>5794</td>\n",
              "    </tr>\n",
              "    <tr>\n",
              "      <th>10</th>\n",
              "      <td>6301</td>\n",
              "    </tr>\n",
              "    <tr>\n",
              "      <th>11</th>\n",
              "      <td>5442</td>\n",
              "    </tr>\n",
              "    <tr>\n",
              "      <th>12</th>\n",
              "      <td>5076</td>\n",
              "    </tr>\n",
              "  </tbody>\n",
              "</table>\n",
              "</div>"
            ],
            "text/plain": [
              "     roubo_transeunte\n",
              "mes                  \n",
              "1                7454\n",
              "2                7000\n",
              "3                7734\n",
              "4                7031\n",
              "5                7332\n",
              "6                6077\n",
              "7                6636\n",
              "8                6452\n",
              "9                5794\n",
              "10               6301\n",
              "11               5442\n",
              "12               5076"
            ]
          },
          "metadata": {
            "tags": []
          },
          "execution_count": 47
        }
      ]
    },
    {
      "cell_type": "code",
      "metadata": {
        "colab": {
          "base_uri": "https://localhost:8080/",
          "height": 312
        },
        "id": "v0N5PjS8yy_Y",
        "outputId": "129856c1-2351-4199-eb7f-2dbe72b391e8"
      },
      "source": [
        "plt.plot(rt.index,rt.roubo_transeunte,'bo-')\r\n",
        "plt.xlabel('meses')\r\n",
        "plt.ylabel('roubos transeuntes')\r\n",
        "plt.title('roubos transeuntes em todo estado');"
      ],
      "execution_count": 48,
      "outputs": [
        {
          "output_type": "execute_result",
          "data": {
            "text/plain": [
              "Text(0.5, 1.0, 'roubos transeuntes em todo estado')"
            ]
          },
          "metadata": {
            "tags": []
          },
          "execution_count": 48
        },
        {
          "output_type": "display_data",
          "data": {
            "image/png": "[encoded data removed]",
            "text/plain": [
              "<Figure size 432x288 with 1 Axes>"
            ]
          },
          "metadata": {
            "tags": [],
            "needs_background": "light"
          }
        }
      ]
    },
    {
      "cell_type": "markdown",
      "metadata": {
        "id": "iraNaAaMzbK9"
      },
      "source": [
        "Podemos observar que:\r\n",
        "\r\n",
        "*   Maior pico em período carnavalesco (mês 3 - Março).\r\n",
        "*   Os números caíram de forma significativa em comparação do mês 1 com o mês 12.\r\n",
        "*   O gráfico de roubo transeuntes acompanha mais o gráfico de registros totais em comparação ao gráfico de letalidade.\r\n",
        "\r\n",
        "\r\n",
        "\r\n",
        "\r\n",
        "\r\n"
      ]
    },
    {
      "cell_type": "markdown",
      "metadata": {
        "id": "2akHGtsR0Mo9"
      },
      "source": [
        "###Crime menos registrado\r\n",
        "\r\n",
        "No ranking criado um pouco acima de crimes mais registrados vimos o crime de 'policias mortos em serviços' com 0 registros, e por esse motivo trabalharemos com o segundo menos registrado, `sequestro`, com apenas dois registros."
      ]
    },
    {
      "cell_type": "markdown",
      "metadata": {
        "id": "EPYo83RQ0zmR"
      },
      "source": [
        "#####Sequestro\r\n",
        "\r\n",
        "Com apenas dois registros em todo ano de 2019, iremos localizar onde e quando foram esses sequestros.\r\n",
        "<center><img src='https://notisul.com.br/wp-content/uploads/2019/11/gerente-de-banco-de-grao-para-e-vitima-de-sequestro-relampago-1-696x376.jpg' width='60%' </img></center>"
      ]
    },
    {
      "cell_type": "code",
      "metadata": {
        "colab": {
          "base_uri": "https://localhost:8080/",
          "height": 111
        },
        "id": "qc0KAFHN1ySw",
        "outputId": "2255f099-f8e5-4c95-a594-e97771e68989"
      },
      "source": [
        "#Localizando os registros de sequestros\r\n",
        "df_clean.query(\"sequestro != 0\")[['municipio','mes','regiao','sequestro']]"
      ],
      "execution_count": 49,
      "outputs": [
        {
          "output_type": "execute_result",
          "data": {
            "text/html": [
              "<div>\n",
              "<style scoped>\n",
              "    .dataframe tbody tr th:only-of-type {\n",
              "        vertical-align: middle;\n",
              "    }\n",
              "\n",
              "    .dataframe tbody tr th {\n",
              "        vertical-align: top;\n",
              "    }\n",
              "\n",
              "    .dataframe thead th {\n",
              "        text-align: right;\n",
              "    }\n",
              "</style>\n",
              "<table border=\"1\" class=\"dataframe\">\n",
              "  <thead>\n",
              "    <tr style=\"text-align: right;\">\n",
              "      <th></th>\n",
              "      <th>municipio</th>\n",
              "      <th>mes</th>\n",
              "      <th>regiao</th>\n",
              "      <th>sequestro</th>\n",
              "    </tr>\n",
              "  </thead>\n",
              "  <tbody>\n",
              "    <tr>\n",
              "      <th>1064</th>\n",
              "      <td>Paraty</td>\n",
              "      <td>12</td>\n",
              "      <td>Interior</td>\n",
              "      <td>1</td>\n",
              "    </tr>\n",
              "    <tr>\n",
              "      <th>1093</th>\n",
              "      <td>Seropédica</td>\n",
              "      <td>12</td>\n",
              "      <td>Baixada Fluminense</td>\n",
              "      <td>1</td>\n",
              "    </tr>\n",
              "  </tbody>\n",
              "</table>\n",
              "</div>"
            ],
            "text/plain": [
              "       municipio  mes              regiao  sequestro\n",
              "1064      Paraty   12            Interior          1\n",
              "1093  Seropédica   12  Baixada Fluminense          1"
            ]
          },
          "metadata": {
            "tags": []
          },
          "execution_count": 49
        }
      ]
    },
    {
      "cell_type": "markdown",
      "metadata": {
        "id": "-CN51Ur121Oj"
      },
      "source": [
        "Encontrado os dois sequestros registrados, é interessante citar que:\r\n",
        "\r\n",
        "*   Os dois registros foram no mesmo mês de dezembro (12).\r\n",
        "*   Os registros não foram feitos na capital Rio de Janeiro, líder em todos rankings vistos até aqui em nosso *dataset*.\r\n",
        "*   É possível encontrar  matérias em portais de jornalismo desses sequestros citados acima:\r\n",
        "\r\n",
        "[Sequestro de Paraty](https://g1.globo.com/rj/sul-do-rio-costa-verde/noticia/2019/12/05/presos-tres-suspeitos-de-envolvimento-em-sequestro-de-empresaria-em-paraty.ghtml)\r\n",
        "\r\n",
        "[Sequestro de Seropédica](https://g1.globo.com/rj/rio-de-janeiro/noticia/2019/12/13/policia-investiga-sequestro-de-idoso-que-durou-mais-de-24-horas-no-rj.ghtml)\r\n",
        "\r\n",
        "\r\n",
        "\r\n",
        "\r\n"
      ]
    },
    {
      "cell_type": "markdown",
      "metadata": {
        "id": "uwvcWZYa52kS"
      },
      "source": [
        "##Conclusão\r\n",
        "\r\n",
        "Feito as análises, é possível tirar de conclusão que o estado do Rio de Janeiro têm sim, problemas de violência espalhados por todo o território, porém, é evidente que a capital do Rio de Janeiro é isoladamente a maior responsável pelos números do Estado.\r\n",
        "\r\n",
        "É necessário citar também municípios da Baixada Fluminense, como Nova Iguaçu, Belford Roxo, Duque de Caxias e São João de Meriti, municípios que apresentaram números altos, além de São Gonçalo na Grande Niterói.\r\n",
        "\r\n",
        "Apesar de números alarmantes, o ano de 2019 foi um ano que terminou melhor do que começou. Os gráficos no estudo mostram quase sempre uma baixa conforme que o ano vai passando.\r\n",
        "\r\n",
        "Por fim, é importante reafirmar que os números são somente de casos **registrados** pela polícia civil e militar e também categorizado pelos mesmos.\r\n",
        "\r\n",
        "*Esse projeto foi feito apenas com cunho estudantil e exploratório, sem vínculo com nenhuma marca ou órgão governamental. Aberto a críticas e sugestões.*\r\n",
        "\r\n",
        "\r\n",
        "\r\n",
        "---\r\n",
        "\r\n",
        "Contato\r\n",
        "\r\n",
        "[Linkedin](https://www.linkedin.com/in/geovane-melo-da-silva-105040147/)\r\n",
        "\r\n",
        "[GitHub](https://github.com/geovanemelo)\r\n",
        "\r\n",
        "geovanemelo81@gmail.com\r\n"
      ]
    }
  ]
}